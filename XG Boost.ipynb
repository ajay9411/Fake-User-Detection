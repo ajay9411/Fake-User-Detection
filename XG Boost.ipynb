{
 "cells": [
  {
   "cell_type": "code",
   "execution_count": 3,
   "metadata": {
    "colab": {
     "base_uri": "https://localhost:8080/",
     "height": 54
    },
    "colab_type": "code",
    "executionInfo": {
     "elapsed": 3212,
     "status": "ok",
     "timestamp": 1593693908573,
     "user": {
      "displayName": "Ajay Pratap singh",
      "photoUrl": "https://lh3.googleusercontent.com/a-/AOh14Gh4i9MT9GzfPLfUuNaejqTi6c8pe-Yrok_qKR3d=s64",
      "userId": "04438401953446104835"
     },
     "user_tz": -330
    },
    "id": "-nZSq9IK52rg",
    "outputId": "04251891-cb7b-490d-ed06-61b7b743869d"
   },
   "outputs": [
    {
     "name": "stderr",
     "output_type": "stream",
     "text": [
      "/usr/local/lib/python3.6/dist-packages/statsmodels/tools/_testing.py:19: FutureWarning: pandas.util.testing is deprecated. Use the functions in the public API at pandas.testing instead.\n",
      "  import pandas.util.testing as tm\n"
     ]
    }
   ],
   "source": [
    "import pandas as pd\n",
    "import numpy as np\n",
    "import seaborn as sns\n",
    "import matplotlib.pyplot as plt\n",
    "%matplotlib inline\n",
    "from sklearn.model_selection import cross_val_score\n",
    "from sklearn.model_selection import ShuffleSplit\n",
    "from sklearn.model_selection import train_test_split\n",
    "from xgboost import XGBClassifier\n",
    "from sklearn.metrics import confusion_matrix,classification_report,roc_curve\n",
    "import sklearn.metrics as metrics"
   ]
  },
  {
   "cell_type": "code",
   "execution_count": 4,
   "metadata": {
    "colab": {},
    "colab_type": "code",
    "executionInfo": {
     "elapsed": 3127,
     "status": "ok",
     "timestamp": 1593693908575,
     "user": {
      "displayName": "Ajay Pratap singh",
      "photoUrl": "https://lh3.googleusercontent.com/a-/AOh14Gh4i9MT9GzfPLfUuNaejqTi6c8pe-Yrok_qKR3d=s64",
      "userId": "04438401953446104835"
     },
     "user_tz": -330
    },
    "id": "VYuK4Zna_635"
   },
   "outputs": [],
   "source": [
    "df1=pd.read_csv('newDi.csv')\n"
   ]
  },
  {
   "cell_type": "code",
   "execution_count": 5,
   "metadata": {
    "colab": {},
    "colab_type": "code",
    "executionInfo": {
     "elapsed": 3028,
     "status": "ok",
     "timestamp": 1593693908579,
     "user": {
      "displayName": "Ajay Pratap singh",
      "photoUrl": "https://lh3.googleusercontent.com/a-/AOh14Gh4i9MT9GzfPLfUuNaejqTi6c8pe-Yrok_qKR3d=s64",
      "userId": "04438401953446104835"
     },
     "user_tz": -330
    },
    "id": "_fXWmSSCDAv5"
   },
   "outputs": [],
   "source": [
    "df1 = df1.loc[:, ~df1.columns.str.contains('^Unnamed')]"
   ]
  },
  {
   "cell_type": "code",
   "execution_count": 6,
   "metadata": {
    "colab": {
     "base_uri": "https://localhost:8080/",
     "height": 206
    },
    "colab_type": "code",
    "executionInfo": {
     "elapsed": 2942,
     "status": "ok",
     "timestamp": 1593693908582,
     "user": {
      "displayName": "Ajay Pratap singh",
      "photoUrl": "https://lh3.googleusercontent.com/a-/AOh14Gh4i9MT9GzfPLfUuNaejqTi6c8pe-Yrok_qKR3d=s64",
      "userId": "04438401953446104835"
     },
     "user_tz": -330
    },
    "id": "ZduA_5h652vh",
    "outputId": "873f6a20-7a9d-44eb-c01c-bacc7cbc6c3a"
   },
   "outputs": [
    {
     "data": {
      "text/html": [
       "<div>\n",
       "<style scoped>\n",
       "    .dataframe tbody tr th:only-of-type {\n",
       "        vertical-align: middle;\n",
       "    }\n",
       "\n",
       "    .dataframe tbody tr th {\n",
       "        vertical-align: top;\n",
       "    }\n",
       "\n",
       "    .dataframe thead th {\n",
       "        text-align: right;\n",
       "    }\n",
       "</style>\n",
       "<table border=\"1\" class=\"dataframe\">\n",
       "  <thead>\n",
       "    <tr style=\"text-align: right;\">\n",
       "      <th></th>\n",
       "      <th>favourites_count</th>\n",
       "      <th>followers_count</th>\n",
       "      <th>statuses_count</th>\n",
       "      <th>friends_count</th>\n",
       "      <th>listed_count</th>\n",
       "      <th>geo_enabled</th>\n",
       "      <th>default_profile</th>\n",
       "      <th>profile_use_background_image</th>\n",
       "      <th>Is_Fake</th>\n",
       "    </tr>\n",
       "  </thead>\n",
       "  <tbody>\n",
       "    <tr>\n",
       "      <th>0</th>\n",
       "      <td>265</td>\n",
       "      <td>208</td>\n",
       "      <td>2177</td>\n",
       "      <td>332</td>\n",
       "      <td>1</td>\n",
       "      <td>1.0</td>\n",
       "      <td>0.0</td>\n",
       "      <td>0.0</td>\n",
       "      <td>0</td>\n",
       "    </tr>\n",
       "    <tr>\n",
       "      <th>1</th>\n",
       "      <td>3972</td>\n",
       "      <td>330</td>\n",
       "      <td>2660</td>\n",
       "      <td>485</td>\n",
       "      <td>5</td>\n",
       "      <td>1.0</td>\n",
       "      <td>1.0</td>\n",
       "      <td>1.0</td>\n",
       "      <td>0</td>\n",
       "    </tr>\n",
       "    <tr>\n",
       "      <th>2</th>\n",
       "      <td>1185</td>\n",
       "      <td>166</td>\n",
       "      <td>1254</td>\n",
       "      <td>177</td>\n",
       "      <td>0</td>\n",
       "      <td>0.0</td>\n",
       "      <td>0.0</td>\n",
       "      <td>1.0</td>\n",
       "      <td>0</td>\n",
       "    </tr>\n",
       "    <tr>\n",
       "      <th>3</th>\n",
       "      <td>60304</td>\n",
       "      <td>2248</td>\n",
       "      <td>202968</td>\n",
       "      <td>981</td>\n",
       "      <td>101</td>\n",
       "      <td>1.0</td>\n",
       "      <td>0.0</td>\n",
       "      <td>1.0</td>\n",
       "      <td>0</td>\n",
       "    </tr>\n",
       "    <tr>\n",
       "      <th>4</th>\n",
       "      <td>5</td>\n",
       "      <td>21</td>\n",
       "      <td>82</td>\n",
       "      <td>79</td>\n",
       "      <td>0</td>\n",
       "      <td>0.0</td>\n",
       "      <td>1.0</td>\n",
       "      <td>1.0</td>\n",
       "      <td>0</td>\n",
       "    </tr>\n",
       "  </tbody>\n",
       "</table>\n",
       "</div>"
      ],
      "text/plain": [
       "   favourites_count  followers_count  ...  profile_use_background_image  Is_Fake\n",
       "0               265              208  ...                           0.0        0\n",
       "1              3972              330  ...                           1.0        0\n",
       "2              1185              166  ...                           1.0        0\n",
       "3             60304             2248  ...                           1.0        0\n",
       "4                 5               21  ...                           1.0        0\n",
       "\n",
       "[5 rows x 9 columns]"
      ]
     },
     "execution_count": 6,
     "metadata": {
      "tags": []
     },
     "output_type": "execute_result"
    }
   ],
   "source": [
    "df1.head()"
   ]
  },
  {
   "cell_type": "code",
   "execution_count": 7,
   "metadata": {
    "colab": {
     "base_uri": "https://localhost:8080/",
     "height": 35
    },
    "colab_type": "code",
    "executionInfo": {
     "elapsed": 2853,
     "status": "ok",
     "timestamp": 1593693908584,
     "user": {
      "displayName": "Ajay Pratap singh",
      "photoUrl": "https://lh3.googleusercontent.com/a-/AOh14Gh4i9MT9GzfPLfUuNaejqTi6c8pe-Yrok_qKR3d=s64",
      "userId": "04438401953446104835"
     },
     "user_tz": -330
    },
    "id": "-a1gKNYQ52vk",
    "outputId": "ea147fc3-a780-44ff-a6ca-d3cb6cefd323"
   },
   "outputs": [
    {
     "data": {
      "text/plain": [
       "(6825, 9)"
      ]
     },
     "execution_count": 7,
     "metadata": {
      "tags": []
     },
     "output_type": "execute_result"
    }
   ],
   "source": [
    "df1.shape"
   ]
  },
  {
   "cell_type": "code",
   "execution_count": 8,
   "metadata": {
    "colab": {},
    "colab_type": "code",
    "executionInfo": {
     "elapsed": 2769,
     "status": "ok",
     "timestamp": 1593693908585,
     "user": {
      "displayName": "Ajay Pratap singh",
      "photoUrl": "https://lh3.googleusercontent.com/a-/AOh14Gh4i9MT9GzfPLfUuNaejqTi6c8pe-Yrok_qKR3d=s64",
      "userId": "04438401953446104835"
     },
     "user_tz": -330
    },
    "id": "_meZKVLO52vq"
   },
   "outputs": [],
   "source": [
    "X=df1.drop('Is_Fake',axis=1)"
   ]
  },
  {
   "cell_type": "code",
   "execution_count": 9,
   "metadata": {
    "colab": {},
    "colab_type": "code",
    "executionInfo": {
     "elapsed": 2673,
     "status": "ok",
     "timestamp": 1593693908586,
     "user": {
      "displayName": "Ajay Pratap singh",
      "photoUrl": "https://lh3.googleusercontent.com/a-/AOh14Gh4i9MT9GzfPLfUuNaejqTi6c8pe-Yrok_qKR3d=s64",
      "userId": "04438401953446104835"
     },
     "user_tz": -330
    },
    "id": "T6Q5PRUK52vt"
   },
   "outputs": [],
   "source": [
    "y=df1['Is_Fake']"
   ]
  },
  {
   "cell_type": "code",
   "execution_count": 10,
   "metadata": {
    "colab": {},
    "colab_type": "code",
    "executionInfo": {
     "elapsed": 2576,
     "status": "ok",
     "timestamp": 1593693908587,
     "user": {
      "displayName": "Ajay Pratap singh",
      "photoUrl": "https://lh3.googleusercontent.com/a-/AOh14Gh4i9MT9GzfPLfUuNaejqTi6c8pe-Yrok_qKR3d=s64",
      "userId": "04438401953446104835"
     },
     "user_tz": -330
    },
    "id": "bstZKYRBiQwj"
   },
   "outputs": [],
   "source": [
    "cv=ShuffleSplit(n_splits=10,random_state=42,test_size=0.3)"
   ]
  },
  {
   "cell_type": "code",
   "execution_count": 11,
   "metadata": {
    "colab": {
     "base_uri": "https://localhost:8080/",
     "height": 54
    },
    "colab_type": "code",
    "executionInfo": {
     "elapsed": 6086,
     "status": "ok",
     "timestamp": 1593693912240,
     "user": {
      "displayName": "Ajay Pratap singh",
      "photoUrl": "https://lh3.googleusercontent.com/a-/AOh14Gh4i9MT9GzfPLfUuNaejqTi6c8pe-Yrok_qKR3d=s64",
      "userId": "04438401953446104835"
     },
     "user_tz": -330
    },
    "id": "iHWsuJ1Q52v9",
    "outputId": "926aac65-b98a-47df-b6f8-ce55b4d18263"
   },
   "outputs": [
    {
     "data": {
      "text/plain": [
       "array([0.99023438, 0.99316406, 0.99121094, 0.99072266, 0.99414062,\n",
       "       0.9921875 , 0.99414062, 0.99072266, 0.99169922, 0.99169922])"
      ]
     },
     "execution_count": 11,
     "metadata": {
      "tags": []
     },
     "output_type": "execute_result"
    }
   ],
   "source": [
    "cross_val_score(XGBClassifier(),X,y,scoring='accuracy',cv=cv)"
   ]
  },
  {
   "cell_type": "code",
   "execution_count": 12,
   "metadata": {
    "colab": {},
    "colab_type": "code",
    "executionInfo": {
     "elapsed": 5991,
     "status": "ok",
     "timestamp": 1593693912243,
     "user": {
      "displayName": "Ajay Pratap singh",
      "photoUrl": "https://lh3.googleusercontent.com/a-/AOh14Gh4i9MT9GzfPLfUuNaejqTi6c8pe-Yrok_qKR3d=s64",
      "userId": "04438401953446104835"
     },
     "user_tz": -330
    },
    "id": "RiNTIpgkg3LR"
   },
   "outputs": [],
   "source": [
    "x_train,x_test,y_train,y_test=train_test_split(X,y,test_size=0.3,random_state=42)"
   ]
  },
  {
   "cell_type": "code",
   "execution_count": 13,
   "metadata": {
    "colab": {
     "base_uri": "https://localhost:8080/",
     "height": 90
    },
    "colab_type": "code",
    "executionInfo": {
     "elapsed": 5911,
     "status": "ok",
     "timestamp": 1593693912245,
     "user": {
      "displayName": "Ajay Pratap singh",
      "photoUrl": "https://lh3.googleusercontent.com/a-/AOh14Gh4i9MT9GzfPLfUuNaejqTi6c8pe-Yrok_qKR3d=s64",
      "userId": "04438401953446104835"
     },
     "user_tz": -330
    },
    "id": "GbSQRAxvg-tH",
    "outputId": "87f52a5f-4fdd-4c42-c291-59cb3eb03dc4"
   },
   "outputs": [
    {
     "name": "stdout",
     "output_type": "stream",
     "text": [
      "(4777, 8)\n",
      "(2048, 8)\n",
      "(4777,)\n",
      "(2048,)\n"
     ]
    }
   ],
   "source": [
    "print(x_train.shape)\n",
    "print(x_test.shape)\n",
    "print(y_train.shape)\n",
    "print(y_test.shape)"
   ]
  },
  {
   "cell_type": "code",
   "execution_count": 14,
   "metadata": {
    "colab": {},
    "colab_type": "code",
    "executionInfo": {
     "elapsed": 5828,
     "status": "ok",
     "timestamp": 1593693912246,
     "user": {
      "displayName": "Ajay Pratap singh",
      "photoUrl": "https://lh3.googleusercontent.com/a-/AOh14Gh4i9MT9GzfPLfUuNaejqTi6c8pe-Yrok_qKR3d=s64",
      "userId": "04438401953446104835"
     },
     "user_tz": -330
    },
    "id": "Jw19DCQO52wH"
   },
   "outputs": [],
   "source": [
    "xg=XGBClassifier()"
   ]
  },
  {
   "cell_type": "code",
   "execution_count": 15,
   "metadata": {
    "colab": {
     "base_uri": "https://localhost:8080/",
     "height": 146
    },
    "colab_type": "code",
    "executionInfo": {
     "elapsed": 5695,
     "status": "ok",
     "timestamp": 1593693912249,
     "user": {
      "displayName": "Ajay Pratap singh",
      "photoUrl": "https://lh3.googleusercontent.com/a-/AOh14Gh4i9MT9GzfPLfUuNaejqTi6c8pe-Yrok_qKR3d=s64",
      "userId": "04438401953446104835"
     },
     "user_tz": -330
    },
    "id": "haTWK1my52wN",
    "outputId": "cff7ec2a-f489-4c8c-94f1-3357e0440d95"
   },
   "outputs": [
    {
     "data": {
      "text/plain": [
       "XGBClassifier(base_score=0.5, booster='gbtree', colsample_bylevel=1,\n",
       "              colsample_bynode=1, colsample_bytree=1, gamma=0,\n",
       "              learning_rate=0.1, max_delta_step=0, max_depth=3,\n",
       "              min_child_weight=1, missing=None, n_estimators=100, n_jobs=1,\n",
       "              nthread=None, objective='binary:logistic', random_state=0,\n",
       "              reg_alpha=0, reg_lambda=1, scale_pos_weight=1, seed=None,\n",
       "              silent=None, subsample=1, verbosity=1)"
      ]
     },
     "execution_count": 15,
     "metadata": {
      "tags": []
     },
     "output_type": "execute_result"
    }
   ],
   "source": [
    "xg.fit(x_train,y_train)"
   ]
  },
  {
   "cell_type": "code",
   "execution_count": 16,
   "metadata": {
    "colab": {},
    "colab_type": "code",
    "executionInfo": {
     "elapsed": 5604,
     "status": "ok",
     "timestamp": 1593693912250,
     "user": {
      "displayName": "Ajay Pratap singh",
      "photoUrl": "https://lh3.googleusercontent.com/a-/AOh14Gh4i9MT9GzfPLfUuNaejqTi6c8pe-Yrok_qKR3d=s64",
      "userId": "04438401953446104835"
     },
     "user_tz": -330
    },
    "id": "FwI8dAEm52wQ"
   },
   "outputs": [],
   "source": [
    "prediction=xg.predict(x_test)"
   ]
  },
  {
   "cell_type": "code",
   "execution_count": 17,
   "metadata": {
    "colab": {
     "base_uri": "https://localhost:8080/",
     "height": 182
    },
    "colab_type": "code",
    "executionInfo": {
     "elapsed": 5490,
     "status": "ok",
     "timestamp": 1593693912254,
     "user": {
      "displayName": "Ajay Pratap singh",
      "photoUrl": "https://lh3.googleusercontent.com/a-/AOh14Gh4i9MT9GzfPLfUuNaejqTi6c8pe-Yrok_qKR3d=s64",
      "userId": "04438401953446104835"
     },
     "user_tz": -330
    },
    "id": "4GRNvy8n52wT",
    "outputId": "23c03f3d-b6aa-41f6-9ee5-9475b099cb10"
   },
   "outputs": [
    {
     "name": "stdout",
     "output_type": "stream",
     "text": [
      "              precision    recall  f1-score   support\n",
      "\n",
      "           0       0.99      0.99      0.99      1074\n",
      "           1       0.99      0.99      0.99       974\n",
      "\n",
      "    accuracy                           0.99      2048\n",
      "   macro avg       0.99      0.99      0.99      2048\n",
      "weighted avg       0.99      0.99      0.99      2048\n",
      "\n"
     ]
    }
   ],
   "source": [
    "print(classification_report(y_test,prediction))"
   ]
  },
  {
   "cell_type": "code",
   "execution_count": 18,
   "metadata": {
    "colab": {
     "base_uri": "https://localhost:8080/",
     "height": 54
    },
    "colab_type": "code",
    "executionInfo": {
     "elapsed": 5415,
     "status": "ok",
     "timestamp": 1593693912256,
     "user": {
      "displayName": "Ajay Pratap singh",
      "photoUrl": "https://lh3.googleusercontent.com/a-/AOh14Gh4i9MT9GzfPLfUuNaejqTi6c8pe-Yrok_qKR3d=s64",
      "userId": "04438401953446104835"
     },
     "user_tz": -330
    },
    "id": "PK_SQQv852wX",
    "outputId": "07344fbf-73f4-495f-c159-c5683c04679a"
   },
   "outputs": [
    {
     "data": {
      "text/plain": [
       "array([[1065,    9],\n",
       "       [  11,  963]])"
      ]
     },
     "execution_count": 18,
     "metadata": {
      "tags": []
     },
     "output_type": "execute_result"
    }
   ],
   "source": [
    "confusion_matrix(y_test,prediction)"
   ]
  },
  {
   "cell_type": "code",
   "execution_count": 19,
   "metadata": {
    "colab": {},
    "colab_type": "code",
    "executionInfo": {
     "elapsed": 5318,
     "status": "ok",
     "timestamp": 1593693912257,
     "user": {
      "displayName": "Ajay Pratap singh",
      "photoUrl": "https://lh3.googleusercontent.com/a-/AOh14Gh4i9MT9GzfPLfUuNaejqTi6c8pe-Yrok_qKR3d=s64",
      "userId": "04438401953446104835"
     },
     "user_tz": -330
    },
    "id": "B-dBUPR952wf"
   },
   "outputs": [],
   "source": [
    "fpr, tpr, thresholds=roc_curve(y_test,prediction)"
   ]
  },
  {
   "cell_type": "code",
   "execution_count": 20,
   "metadata": {
    "colab": {
     "base_uri": "https://localhost:8080/",
     "height": 283
    },
    "colab_type": "code",
    "executionInfo": {
     "elapsed": 5207,
     "status": "ok",
     "timestamp": 1593693912259,
     "user": {
      "displayName": "Ajay Pratap singh",
      "photoUrl": "https://lh3.googleusercontent.com/a-/AOh14Gh4i9MT9GzfPLfUuNaejqTi6c8pe-Yrok_qKR3d=s64",
      "userId": "04438401953446104835"
     },
     "user_tz": -330
    },
    "id": "LR-IFyPf52wh",
    "outputId": "6c0dec31-1ae4-420a-b6af-d24a65b5cf0b"
   },
   "outputs": [
    {
     "data": {
      "text/plain": [
       "[<matplotlib.lines.Line2D at 0x7ff6489b3748>]"
      ]
     },
     "execution_count": 20,
     "metadata": {
      "tags": []
     },
     "output_type": "execute_result"
    },
    {
     "data": {
      "image/png": "[encoded data removed]",
      "text/plain": [
       "<Figure size 432x288 with 1 Axes>"
      ]
     },
     "metadata": {
      "needs_background": "light",
      "tags": []
     },
     "output_type": "display_data"
    }
   ],
   "source": [
    "plt.plot(fpr,tpr,linestyle='--',color='red')\n",
    "plt.plot([0, 1], [0, 1], color='navy', linestyle='--')"
   ]
  },
  {
   "cell_type": "code",
   "execution_count": 21,
   "metadata": {
    "colab": {
     "base_uri": "https://localhost:8080/",
     "height": 54
    },
    "colab_type": "code",
    "executionInfo": {
     "elapsed": 5121,
     "status": "ok",
     "timestamp": 1593693912260,
     "user": {
      "displayName": "Ajay Pratap singh",
      "photoUrl": "https://lh3.googleusercontent.com/a-/AOh14Gh4i9MT9GzfPLfUuNaejqTi6c8pe-Yrok_qKR3d=s64",
      "userId": "04438401953446104835"
     },
     "user_tz": -330
    },
    "id": "GfKV0g_WinS3",
    "outputId": "07b57fb3-b9f0-43c2-e19c-f82375744684"
   },
   "outputs": [
    {
     "name": "stdout",
     "output_type": "stream",
     "text": [
      "Accuracy: 0.990234375\n",
      "Loss:  0.33729625208744496\n"
     ]
    }
   ],
   "source": [
    "print(\"Accuracy:\",metrics.accuracy_score(y_test, prediction))\n",
    "print(\"Loss: \",metrics.log_loss(y_test, prediction))"
   ]
  },
  {
   "cell_type": "code",
   "execution_count": 22,
   "metadata": {
    "colab": {},
    "colab_type": "code",
    "executionInfo": {
     "elapsed": 5024,
     "status": "ok",
     "timestamp": 1593693912262,
     "user": {
      "displayName": "Ajay Pratap singh",
      "photoUrl": "https://lh3.googleusercontent.com/a-/AOh14Gh4i9MT9GzfPLfUuNaejqTi6c8pe-Yrok_qKR3d=s64",
      "userId": "04438401953446104835"
     },
     "user_tz": -330
    },
    "id": "tasrM1iU52wm"
   },
   "outputs": [],
   "source": [
    "import pickle"
   ]
  },
  {
   "cell_type": "code",
   "execution_count": 23,
   "metadata": {
    "colab": {
     "base_uri": "https://localhost:8080/",
     "height": 35
    },
    "colab_type": "code",
    "executionInfo": {
     "elapsed": 4919,
     "status": "ok",
     "timestamp": 1593693912263,
     "user": {
      "displayName": "Ajay Pratap singh",
      "photoUrl": "https://lh3.googleusercontent.com/a-/AOh14Gh4i9MT9GzfPLfUuNaejqTi6c8pe-Yrok_qKR3d=s64",
      "userId": "04438401953446104835"
     },
     "user_tz": -330
    },
    "id": "DP95TJks52wq",
    "outputId": "38601443-4b14-48a2-ff4b-b632018f9e24"
   },
   "outputs": [
    {
     "name": "stdout",
     "output_type": "stream",
     "text": [
      "/content/drive/My Drive/project/Models\n"
     ]
    }
   ],
   "source": [
    "%cd Models\n",
    "with open('xg_boost.pkl','wb') as f:\n",
    "    pickle.dump(xg,f)"
   ]
  }
 ],
 "metadata": {
  "colab": {
   "collapsed_sections": [],
   "name": "XG Boost.ipynb",
   "provenance": []
  },
  "kernelspec": {
   "display_name": "Python 3",
   "language": "python",
   "name": "python3"
  },
  "language_info": {
   "codemirror_mode": {
    "name": "ipython",
    "version": 3
   },
   "file_extension": ".py",
   "mimetype": "text/x-python",
   "name": "python",
   "nbconvert_exporter": "python",
   "pygments_lexer": "ipython3",
   "version": "3.8.2"
  }
 },
 "nbformat": 4,
 "nbformat_minor": 1
}
