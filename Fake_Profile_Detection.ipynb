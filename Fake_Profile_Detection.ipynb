{
 "cells": [
  {
   "cell_type": "markdown",
   "metadata": {
    "colab_type": "text",
    "id": "HJcv-LHp52re"
   },
   "source": [
    "## Importing Libraries"
   ]
  },
  {
   "cell_type": "code",
   "execution_count": 1,
   "metadata": {
    "colab": {
     "base_uri": "https://localhost:8080/",
     "height": 129
    },
    "colab_type": "code",
    "executionInfo": {
     "elapsed": 24010,
     "status": "ok",
     "timestamp": 1592921141609,
     "user": {
      "displayName": "Ajay Pratap singh",
      "photoUrl": "https://lh3.googleusercontent.com/a-/AOh14Gh4i9MT9GzfPLfUuNaejqTi6c8pe-Yrok_qKR3d=s64",
      "userId": "04438401953446104835"
     },
     "user_tz": -330
    },
    "id": "QUVpat0V6Idk",
    "outputId": "e006abae-226a-4035-8c01-4bd81a5fd6bb"
   },
   "outputs": [
    {
     "name": "stdout",
     "output_type": "stream",
     "text": [
      "Go to this URL in a browser: https://accounts.google.com/o/oauth2/auth?client_id=947318989803-6bn6qk8qdgf4n4g3pfee6491hc0brc4i.apps.googleusercontent.com&redirect_uri=urn%3aietf%3awg%3aoauth%3a2.0%3aoob&response_type=code&scope=email%20https%3a%2f%2fwww.googleapis.com%2fauth%2fdocs.test%20https%3a%2f%2fwww.googleapis.com%2fauth%2fdrive%20https%3a%2f%2fwww.googleapis.com%2fauth%2fdrive.photos.readonly%20https%3a%2f%2fwww.googleapis.com%2fauth%2fpeopleapi.readonly\n",
      "\n",
      "Enter your authorization code:\n",
      "··········\n",
      "Mounted at /content/drive\n"
     ]
    }
   ],
   "source": [
    "from google.colab import drive\n",
    "drive.mount('/content/drive')"
   ]
  },
  {
   "cell_type": "code",
   "execution_count": 2,
   "metadata": {
    "colab": {
     "base_uri": "https://localhost:8080/",
     "height": 35
    },
    "colab_type": "code",
    "executionInfo": {
     "elapsed": 1523,
     "status": "ok",
     "timestamp": 1592921187467,
     "user": {
      "displayName": "Ajay Pratap singh",
      "photoUrl": "https://lh3.googleusercontent.com/a-/AOh14Gh4i9MT9GzfPLfUuNaejqTi6c8pe-Yrok_qKR3d=s64",
      "userId": "04438401953446104835"
     },
     "user_tz": -330
    },
    "id": "Fh-PCaVc6grA",
    "outputId": "9f2c08c9-05ff-48b7-ce80-85d87d4698a6"
   },
   "outputs": [
    {
     "name": "stdout",
     "output_type": "stream",
     "text": [
      "/content/drive/My Drive/project\n"
     ]
    }
   ],
   "source": [
    "%cd /content/drive/My Drive/project"
   ]
  },
  {
   "cell_type": "code",
   "execution_count": 3,
   "metadata": {
    "colab": {
     "base_uri": "https://localhost:8080/",
     "height": 54
    },
    "colab_type": "code",
    "executionInfo": {
     "elapsed": 1546,
     "status": "ok",
     "timestamp": 1592921190053,
     "user": {
      "displayName": "Ajay Pratap singh",
      "photoUrl": "https://lh3.googleusercontent.com/a-/AOh14Gh4i9MT9GzfPLfUuNaejqTi6c8pe-Yrok_qKR3d=s64",
      "userId": "04438401953446104835"
     },
     "user_tz": -330
    },
    "id": "-nZSq9IK52rg",
    "outputId": "5d8a6dab-086f-4d4b-8661-84870f8aecdd"
   },
   "outputs": [
    {
     "name": "stderr",
     "output_type": "stream",
     "text": [
      "/usr/local/lib/python3.6/dist-packages/statsmodels/tools/_testing.py:19: FutureWarning: pandas.util.testing is deprecated. Use the functions in the public API at pandas.testing instead.\n",
      "  import pandas.util.testing as tm\n"
     ]
    }
   ],
   "source": [
    "import pandas as pd\n",
    "import numpy as np\n",
    "import seaborn as sns\n",
    "import matplotlib.pyplot as plt\n",
    "%matplotlib inline"
   ]
  },
  {
   "cell_type": "code",
   "execution_count": 4,
   "metadata": {
    "colab": {},
    "colab_type": "code",
    "executionInfo": {
     "elapsed": 1676,
     "status": "ok",
     "timestamp": 1592921191604,
     "user": {
      "displayName": "Ajay Pratap singh",
      "photoUrl": "https://lh3.googleusercontent.com/a-/AOh14Gh4i9MT9GzfPLfUuNaejqTi6c8pe-Yrok_qKR3d=s64",
      "userId": "04438401953446104835"
     },
     "user_tz": -330
    },
    "id": "JzhxbQVY52rw"
   },
   "outputs": [],
   "source": [
    "from sklearn.model_selection import cross_val_score\n",
    "from sklearn.model_selection import ShuffleSplit\n",
    "from sklearn.model_selection import train_test_split"
   ]
  },
  {
   "cell_type": "code",
   "execution_count": 7,
   "metadata": {
    "colab": {},
    "colab_type": "code",
    "executionInfo": {
     "elapsed": 1536,
     "status": "ok",
     "timestamp": 1592921197994,
     "user": {
      "displayName": "Ajay Pratap singh",
      "photoUrl": "https://lh3.googleusercontent.com/a-/AOh14Gh4i9MT9GzfPLfUuNaejqTi6c8pe-Yrok_qKR3d=s64",
      "userId": "04438401953446104835"
     },
     "user_tz": -330
    },
    "id": "wfjF3MUW52r8"
   },
   "outputs": [],
   "source": [
    "from sklearn.ensemble import RandomForestClassifier\n",
    "from sklearn.svm import SVC\n",
    "from xgboost import XGBClassifier"
   ]
  },
  {
   "cell_type": "code",
   "execution_count": 8,
   "metadata": {
    "colab": {},
    "colab_type": "code",
    "executionInfo": {
     "elapsed": 1087,
     "status": "ok",
     "timestamp": 1592921199842,
     "user": {
      "displayName": "Ajay Pratap singh",
      "photoUrl": "https://lh3.googleusercontent.com/a-/AOh14Gh4i9MT9GzfPLfUuNaejqTi6c8pe-Yrok_qKR3d=s64",
      "userId": "04438401953446104835"
     },
     "user_tz": -330
    },
    "id": "pDOSSNL-52sE"
   },
   "outputs": [],
   "source": [
    "from sklearn.metrics import confusion_matrix,classification_report,roc_curve"
   ]
  },
  {
   "cell_type": "markdown",
   "metadata": {
    "colab_type": "text",
    "id": "CZZ7KHtk52sK"
   },
   "source": [
    "## Loading Both the data frames "
   ]
  },
  {
   "cell_type": "code",
   "execution_count": 9,
   "metadata": {
    "colab": {
     "base_uri": "https://localhost:8080/",
     "height": 400
    },
    "colab_type": "code",
    "executionInfo": {
     "elapsed": 1168,
     "status": "ok",
     "timestamp": 1592921202976,
     "user": {
      "displayName": "Ajay Pratap singh",
      "photoUrl": "https://lh3.googleusercontent.com/a-/AOh14Gh4i9MT9GzfPLfUuNaejqTi6c8pe-Yrok_qKR3d=s64",
      "userId": "04438401953446104835"
     },
     "user_tz": -330
    },
    "id": "katY7sNM52sM",
    "outputId": "765a24d4-802b-4664-b0a1-6ffc71bef667"
   },
   "outputs": [
    {
     "data": {
      "text/html": [
       "<div>\n",
       "<style scoped>\n",
       "    .dataframe tbody tr th:only-of-type {\n",
       "        vertical-align: middle;\n",
       "    }\n",
       "\n",
       "    .dataframe tbody tr th {\n",
       "        vertical-align: top;\n",
       "    }\n",
       "\n",
       "    .dataframe thead th {\n",
       "        text-align: right;\n",
       "    }\n",
       "</style>\n",
       "<table border=\"1\" class=\"dataframe\">\n",
       "  <thead>\n",
       "    <tr style=\"text-align: right;\">\n",
       "      <th></th>\n",
       "      <th>id</th>\n",
       "      <th>name</th>\n",
       "      <th>screen_name</th>\n",
       "      <th>statuses_count</th>\n",
       "      <th>followers_count</th>\n",
       "      <th>friends_count</th>\n",
       "      <th>favourites_count</th>\n",
       "      <th>listed_count</th>\n",
       "      <th>created_at</th>\n",
       "      <th>url</th>\n",
       "      <th>lang</th>\n",
       "      <th>time_zone</th>\n",
       "      <th>location</th>\n",
       "      <th>default_profile</th>\n",
       "      <th>default_profile_image</th>\n",
       "      <th>geo_enabled</th>\n",
       "      <th>profile_image_url</th>\n",
       "      <th>profile_banner_url</th>\n",
       "      <th>profile_use_background_image</th>\n",
       "      <th>profile_background_image_url_https</th>\n",
       "      <th>profile_text_color</th>\n",
       "      <th>profile_image_url_https</th>\n",
       "      <th>profile_sidebar_border_color</th>\n",
       "      <th>profile_background_tile</th>\n",
       "      <th>profile_sidebar_fill_color</th>\n",
       "      <th>profile_background_image_url</th>\n",
       "      <th>profile_background_color</th>\n",
       "      <th>profile_link_color</th>\n",
       "      <th>utc_offset</th>\n",
       "      <th>protected</th>\n",
       "      <th>verified</th>\n",
       "      <th>description</th>\n",
       "      <th>updated</th>\n",
       "      <th>dataset</th>\n",
       "    </tr>\n",
       "  </thead>\n",
       "  <tbody>\n",
       "    <tr>\n",
       "      <th>0</th>\n",
       "      <td>370098498</td>\n",
       "      <td>pirfectmoses</td>\n",
       "      <td>pirfectmoses</td>\n",
       "      <td>24</td>\n",
       "      <td>4</td>\n",
       "      <td>588</td>\n",
       "      <td>16</td>\n",
       "      <td>0</td>\n",
       "      <td>Thu Sep 08 13:20:35 +0000 2011</td>\n",
       "      <td>NaN</td>\n",
       "      <td>en</td>\n",
       "      <td>NaN</td>\n",
       "      <td>NaN</td>\n",
       "      <td>NaN</td>\n",
       "      <td>NaN</td>\n",
       "      <td>NaN</td>\n",
       "      <td>http://a0.twimg.com/profile_images/3146805145/...</td>\n",
       "      <td>https://twimg0-a.akamaihd.net/profile_banners/...</td>\n",
       "      <td>1</td>\n",
       "      <td>https://twimg0-a.akamaihd.net/profile_backgrou...</td>\n",
       "      <td>333333</td>\n",
       "      <td>https://twimg0-a.akamaihd.net/profile_images/3...</td>\n",
       "      <td>FFFFFF</td>\n",
       "      <td>NaN</td>\n",
       "      <td>DDEEF6</td>\n",
       "      <td>http://a0.twimg.com/profile_background_images/...</td>\n",
       "      <td>C6E2EE</td>\n",
       "      <td>1F98C7</td>\n",
       "      <td>NaN</td>\n",
       "      <td>NaN</td>\n",
       "      <td>NaN</td>\n",
       "      <td>NaN</td>\n",
       "      <td>2015-02-14 10:40:01</td>\n",
       "      <td>INT</td>\n",
       "    </tr>\n",
       "    <tr>\n",
       "      <th>1</th>\n",
       "      <td>37384589</td>\n",
       "      <td>SAK Nair</td>\n",
       "      <td>bsknair1967</td>\n",
       "      <td>656</td>\n",
       "      <td>57</td>\n",
       "      <td>693</td>\n",
       "      <td>597</td>\n",
       "      <td>0</td>\n",
       "      <td>Sun May 03 07:35:13 +0000 2009</td>\n",
       "      <td>NaN</td>\n",
       "      <td>en</td>\n",
       "      <td>NaN</td>\n",
       "      <td>Kuwait</td>\n",
       "      <td>1.0</td>\n",
       "      <td>NaN</td>\n",
       "      <td>NaN</td>\n",
       "      <td>http://a0.twimg.com/profile_images/1642325536/...</td>\n",
       "      <td>NaN</td>\n",
       "      <td>1</td>\n",
       "      <td>https://si0.twimg.com/images/themes/theme1/bg.png</td>\n",
       "      <td>333333</td>\n",
       "      <td>https://si0.twimg.com/profile_images/164232553...</td>\n",
       "      <td>C0DEED</td>\n",
       "      <td>NaN</td>\n",
       "      <td>DDEEF6</td>\n",
       "      <td>http://a0.twimg.com/images/themes/theme1/bg.png</td>\n",
       "      <td>C0DEED</td>\n",
       "      <td>0084B4</td>\n",
       "      <td>NaN</td>\n",
       "      <td>NaN</td>\n",
       "      <td>NaN</td>\n",
       "      <td>in Kuwait with my buetiful family.</td>\n",
       "      <td>2015-02-14 10:40:01</td>\n",
       "      <td>INT</td>\n",
       "    </tr>\n",
       "    <tr>\n",
       "      <th>2</th>\n",
       "      <td>72110028</td>\n",
       "      <td>Deepak</td>\n",
       "      <td>dedjven</td>\n",
       "      <td>1234</td>\n",
       "      <td>15</td>\n",
       "      <td>104</td>\n",
       "      <td>1150</td>\n",
       "      <td>0</td>\n",
       "      <td>Sun Sep 06 19:50:08 +0000 2009</td>\n",
       "      <td>NaN</td>\n",
       "      <td>en</td>\n",
       "      <td>International Date Line West</td>\n",
       "      <td>India</td>\n",
       "      <td>NaN</td>\n",
       "      <td>NaN</td>\n",
       "      <td>1.0</td>\n",
       "      <td>http://a0.twimg.com/profile_images/1143114846/...</td>\n",
       "      <td>NaN</td>\n",
       "      <td>1</td>\n",
       "      <td>https://si0.twimg.com/images/themes/theme14/bg...</td>\n",
       "      <td>333333</td>\n",
       "      <td>https://si0.twimg.com/profile_images/114311484...</td>\n",
       "      <td>EEEEEE</td>\n",
       "      <td>1.0</td>\n",
       "      <td>EFEFEF</td>\n",
       "      <td>http://a0.twimg.com/images/themes/theme14/bg.gif</td>\n",
       "      <td>131516</td>\n",
       "      <td>009999</td>\n",
       "      <td>-39600.0</td>\n",
       "      <td>NaN</td>\n",
       "      <td>NaN</td>\n",
       "      <td>NaN</td>\n",
       "      <td>2015-02-14 10:40:01</td>\n",
       "      <td>INT</td>\n",
       "    </tr>\n",
       "    <tr>\n",
       "      <th>3</th>\n",
       "      <td>82885728</td>\n",
       "      <td>Marcos Vinicius</td>\n",
       "      <td>BrowAlves</td>\n",
       "      <td>573</td>\n",
       "      <td>14</td>\n",
       "      <td>227</td>\n",
       "      <td>530</td>\n",
       "      <td>0</td>\n",
       "      <td>Fri Oct 16 14:02:48 +0000 2009</td>\n",
       "      <td>NaN</td>\n",
       "      <td>en</td>\n",
       "      <td>NaN</td>\n",
       "      <td>Rio de Janeiro</td>\n",
       "      <td>NaN</td>\n",
       "      <td>NaN</td>\n",
       "      <td>NaN</td>\n",
       "      <td>http://a0.twimg.com/profile_images/2630736938/...</td>\n",
       "      <td>NaN</td>\n",
       "      <td>1</td>\n",
       "      <td>https://si0.twimg.com/profile_background_image...</td>\n",
       "      <td>1F1D1F</td>\n",
       "      <td>https://si0.twimg.com/profile_images/263073693...</td>\n",
       "      <td>C0DEED</td>\n",
       "      <td>NaN</td>\n",
       "      <td>DDEEF6</td>\n",
       "      <td>http://a0.twimg.com/profile_background_images/...</td>\n",
       "      <td>C0DEED</td>\n",
       "      <td>0084B4</td>\n",
       "      <td>NaN</td>\n",
       "      <td>NaN</td>\n",
       "      <td>NaN</td>\n",
       "      <td>NaN</td>\n",
       "      <td>2015-02-14 10:40:01</td>\n",
       "      <td>INT</td>\n",
       "    </tr>\n",
       "    <tr>\n",
       "      <th>4</th>\n",
       "      <td>110120789</td>\n",
       "      <td>Shri Kant Kanaujia</td>\n",
       "      <td>kanaujiask</td>\n",
       "      <td>675</td>\n",
       "      <td>18</td>\n",
       "      <td>519</td>\n",
       "      <td>653</td>\n",
       "      <td>0</td>\n",
       "      <td>Sun Jan 31 12:08:41 +0000 2010</td>\n",
       "      <td>NaN</td>\n",
       "      <td>en</td>\n",
       "      <td>New Delhi</td>\n",
       "      <td>lucknow</td>\n",
       "      <td>1.0</td>\n",
       "      <td>1.0</td>\n",
       "      <td>NaN</td>\n",
       "      <td>http://a0.twimg.com/sticky/default_profile_ima...</td>\n",
       "      <td>NaN</td>\n",
       "      <td>1</td>\n",
       "      <td>https://si0.twimg.com/images/themes/theme1/bg.png</td>\n",
       "      <td>333333</td>\n",
       "      <td>https://si0.twimg.com/sticky/default_profile_i...</td>\n",
       "      <td>C0DEED</td>\n",
       "      <td>NaN</td>\n",
       "      <td>DDEEF6</td>\n",
       "      <td>http://a0.twimg.com/images/themes/theme1/bg.png</td>\n",
       "      <td>C0DEED</td>\n",
       "      <td>0084B4</td>\n",
       "      <td>19800.0</td>\n",
       "      <td>NaN</td>\n",
       "      <td>NaN</td>\n",
       "      <td>NaN</td>\n",
       "      <td>2015-02-14 10:40:01</td>\n",
       "      <td>INT</td>\n",
       "    </tr>\n",
       "  </tbody>\n",
       "</table>\n",
       "</div>"
      ],
      "text/plain": [
       "          id                name  ...              updated  dataset\n",
       "0  370098498        pirfectmoses  ...  2015-02-14 10:40:01      INT\n",
       "1   37384589            SAK Nair  ...  2015-02-14 10:40:01      INT\n",
       "2   72110028              Deepak  ...  2015-02-14 10:40:01      INT\n",
       "3   82885728     Marcos Vinicius  ...  2015-02-14 10:40:01      INT\n",
       "4  110120789  Shri Kant Kanaujia  ...  2015-02-14 10:40:01      INT\n",
       "\n",
       "[5 rows x 34 columns]"
      ]
     },
     "execution_count": 9,
     "metadata": {
      "tags": []
     },
     "output_type": "execute_result"
    }
   ],
   "source": [
    "fake_users=pd.read_csv('fusers.csv')\n",
    "fake_users.head(5)"
   ]
  },
  {
   "cell_type": "code",
   "execution_count": 10,
   "metadata": {
    "colab": {
     "base_uri": "https://localhost:8080/",
     "height": 237
    },
    "colab_type": "code",
    "executionInfo": {
     "elapsed": 1909,
     "status": "ok",
     "timestamp": 1592921224945,
     "user": {
      "displayName": "Ajay Pratap singh",
      "photoUrl": "https://lh3.googleusercontent.com/a-/AOh14Gh4i9MT9GzfPLfUuNaejqTi6c8pe-Yrok_qKR3d=s64",
      "userId": "04438401953446104835"
     },
     "user_tz": -330
    },
    "id": "n3Te_oew52sV",
    "outputId": "5b3dff42-2f1e-4b5e-cd06-1d68d98530c9"
   },
   "outputs": [
    {
     "data": {
      "text/plain": [
       "Index(['id', 'name', 'screen_name', 'statuses_count', 'followers_count',\n",
       "       'friends_count', 'favourites_count', 'listed_count', 'created_at',\n",
       "       'url', 'lang', 'time_zone', 'location', 'default_profile',\n",
       "       'default_profile_image', 'geo_enabled', 'profile_image_url',\n",
       "       'profile_banner_url', 'profile_use_background_image',\n",
       "       'profile_background_image_url_https', 'profile_text_color',\n",
       "       'profile_image_url_https', 'profile_sidebar_border_color',\n",
       "       'profile_background_tile', 'profile_sidebar_fill_color',\n",
       "       'profile_background_image_url', 'profile_background_color',\n",
       "       'profile_link_color', 'utc_offset', 'protected', 'verified',\n",
       "       'description', 'updated', 'dataset'],\n",
       "      dtype='object')"
      ]
     },
     "execution_count": 10,
     "metadata": {
      "tags": []
     },
     "output_type": "execute_result"
    }
   ],
   "source": [
    "fake_users.columns"
   ]
  },
  {
   "cell_type": "code",
   "execution_count": 11,
   "metadata": {
    "colab": {
     "base_uri": "https://localhost:8080/",
     "height": 35
    },
    "colab_type": "code",
    "executionInfo": {
     "elapsed": 1165,
     "status": "ok",
     "timestamp": 1592921224950,
     "user": {
      "displayName": "Ajay Pratap singh",
      "photoUrl": "https://lh3.googleusercontent.com/a-/AOh14Gh4i9MT9GzfPLfUuNaejqTi6c8pe-Yrok_qKR3d=s64",
      "userId": "04438401953446104835"
     },
     "user_tz": -330
    },
    "id": "ppK7LKs252sc",
    "outputId": "5940d511-70c1-4324-a890-24f4dc2aa86c"
   },
   "outputs": [
    {
     "data": {
      "text/plain": [
       "(1337, 34)"
      ]
     },
     "execution_count": 11,
     "metadata": {
      "tags": []
     },
     "output_type": "execute_result"
    }
   ],
   "source": [
    "fake_users.shape"
   ]
  },
  {
   "cell_type": "code",
   "execution_count": 12,
   "metadata": {
    "colab": {
     "base_uri": "https://localhost:8080/",
     "height": 400
    },
    "colab_type": "code",
    "executionInfo": {
     "elapsed": 1836,
     "status": "ok",
     "timestamp": 1592921228308,
     "user": {
      "displayName": "Ajay Pratap singh",
      "photoUrl": "https://lh3.googleusercontent.com/a-/AOh14Gh4i9MT9GzfPLfUuNaejqTi6c8pe-Yrok_qKR3d=s64",
      "userId": "04438401953446104835"
     },
     "user_tz": -330
    },
    "id": "4xPE-i0X52sh",
    "outputId": "4fe12a34-1257-4540-bfdb-8e00c58adbe9"
   },
   "outputs": [
    {
     "data": {
      "text/html": [
       "<div>\n",
       "<style scoped>\n",
       "    .dataframe tbody tr th:only-of-type {\n",
       "        vertical-align: middle;\n",
       "    }\n",
       "\n",
       "    .dataframe tbody tr th {\n",
       "        vertical-align: top;\n",
       "    }\n",
       "\n",
       "    .dataframe thead th {\n",
       "        text-align: right;\n",
       "    }\n",
       "</style>\n",
       "<table border=\"1\" class=\"dataframe\">\n",
       "  <thead>\n",
       "    <tr style=\"text-align: right;\">\n",
       "      <th></th>\n",
       "      <th>id</th>\n",
       "      <th>name</th>\n",
       "      <th>screen_name</th>\n",
       "      <th>statuses_count</th>\n",
       "      <th>followers_count</th>\n",
       "      <th>friends_count</th>\n",
       "      <th>favourites_count</th>\n",
       "      <th>listed_count</th>\n",
       "      <th>created_at</th>\n",
       "      <th>url</th>\n",
       "      <th>lang</th>\n",
       "      <th>time_zone</th>\n",
       "      <th>location</th>\n",
       "      <th>default_profile</th>\n",
       "      <th>default_profile_image</th>\n",
       "      <th>geo_enabled</th>\n",
       "      <th>profile_image_url</th>\n",
       "      <th>profile_banner_url</th>\n",
       "      <th>profile_use_background_image</th>\n",
       "      <th>profile_background_image_url_https</th>\n",
       "      <th>profile_text_color</th>\n",
       "      <th>profile_image_url_https</th>\n",
       "      <th>profile_sidebar_border_color</th>\n",
       "      <th>profile_background_tile</th>\n",
       "      <th>profile_sidebar_fill_color</th>\n",
       "      <th>profile_background_image_url</th>\n",
       "      <th>profile_background_color</th>\n",
       "      <th>profile_link_color</th>\n",
       "      <th>utc_offset</th>\n",
       "      <th>protected</th>\n",
       "      <th>verified</th>\n",
       "      <th>description</th>\n",
       "      <th>updated</th>\n",
       "      <th>dataset</th>\n",
       "    </tr>\n",
       "  </thead>\n",
       "  <tbody>\n",
       "    <tr>\n",
       "      <th>0</th>\n",
       "      <td>3610511</td>\n",
       "      <td>Davide Dellacasa</td>\n",
       "      <td>braddd</td>\n",
       "      <td>20370</td>\n",
       "      <td>5470</td>\n",
       "      <td>2385</td>\n",
       "      <td>145</td>\n",
       "      <td>52</td>\n",
       "      <td>Fri Apr 06 10:58:22 +0000 2007</td>\n",
       "      <td>http://braddd.tumblr.com</td>\n",
       "      <td>it</td>\n",
       "      <td>Rome</td>\n",
       "      <td>Roma</td>\n",
       "      <td>NaN</td>\n",
       "      <td>NaN</td>\n",
       "      <td>NaN</td>\n",
       "      <td>http://a0.twimg.com/profile_images/1575057050/...</td>\n",
       "      <td>https://si0.twimg.com/profile_banners/3610511/...</td>\n",
       "      <td>1.0</td>\n",
       "      <td>https://si0.twimg.com/profile_background_image...</td>\n",
       "      <td>0C3E53</td>\n",
       "      <td>https://si0.twimg.com/profile_images/157505705...</td>\n",
       "      <td>F2E195</td>\n",
       "      <td>NaN</td>\n",
       "      <td>FFF7CC</td>\n",
       "      <td>http://a0.twimg.com/profile_background_images/...</td>\n",
       "      <td>BADFCD</td>\n",
       "      <td>FF0000</td>\n",
       "      <td>3600.0</td>\n",
       "      <td>NaN</td>\n",
       "      <td>NaN</td>\n",
       "      <td>Founder of http://www.screenweek.it &amp; http://w...</td>\n",
       "      <td>2015-02-14 10:54:49</td>\n",
       "      <td>E13</td>\n",
       "    </tr>\n",
       "    <tr>\n",
       "      <th>1</th>\n",
       "      <td>5656162</td>\n",
       "      <td>Simone Economo</td>\n",
       "      <td>eKoeS</td>\n",
       "      <td>3131</td>\n",
       "      <td>506</td>\n",
       "      <td>381</td>\n",
       "      <td>9</td>\n",
       "      <td>40</td>\n",
       "      <td>Mon Apr 30 15:08:42 +0000 2007</td>\n",
       "      <td>http://www.lineheight.net/</td>\n",
       "      <td>en</td>\n",
       "      <td>Rome</td>\n",
       "      <td>Rome, Italy</td>\n",
       "      <td>NaN</td>\n",
       "      <td>NaN</td>\n",
       "      <td>NaN</td>\n",
       "      <td>http://a0.twimg.com/profile_images/1901298312/...</td>\n",
       "      <td>NaN</td>\n",
       "      <td>1.0</td>\n",
       "      <td>https://si0.twimg.com/images/themes/theme1/bg.png</td>\n",
       "      <td>333333</td>\n",
       "      <td>https://si0.twimg.com/profile_images/190129831...</td>\n",
       "      <td>FFFFFF</td>\n",
       "      <td>NaN</td>\n",
       "      <td>DDEEF6</td>\n",
       "      <td>http://a0.twimg.com/images/themes/theme1/bg.png</td>\n",
       "      <td>C0DEED</td>\n",
       "      <td>0084B4</td>\n",
       "      <td>3600.0</td>\n",
       "      <td>NaN</td>\n",
       "      <td>NaN</td>\n",
       "      <td>BSc degree (cum laude) in Computer Engineering...</td>\n",
       "      <td>2015-02-14 10:54:49</td>\n",
       "      <td>E13</td>\n",
       "    </tr>\n",
       "    <tr>\n",
       "      <th>2</th>\n",
       "      <td>5682702</td>\n",
       "      <td>tacone</td>\n",
       "      <td>tacone_</td>\n",
       "      <td>4024</td>\n",
       "      <td>264</td>\n",
       "      <td>87</td>\n",
       "      <td>323</td>\n",
       "      <td>16</td>\n",
       "      <td>Tue May 01 11:53:40 +0000 2007</td>\n",
       "      <td>http://t.co/LKrl1dZE</td>\n",
       "      <td>en</td>\n",
       "      <td>Rome</td>\n",
       "      <td>Internets</td>\n",
       "      <td>NaN</td>\n",
       "      <td>NaN</td>\n",
       "      <td>NaN</td>\n",
       "      <td>http://a0.twimg.com/profile_images/1640620850/...</td>\n",
       "      <td>https://si0.twimg.com/profile_banners/5682702/...</td>\n",
       "      <td>1.0</td>\n",
       "      <td>https://si0.twimg.com/profile_background_image...</td>\n",
       "      <td>666666</td>\n",
       "      <td>https://si0.twimg.com/profile_images/164062085...</td>\n",
       "      <td>181A1E</td>\n",
       "      <td>1.0</td>\n",
       "      <td>000000</td>\n",
       "      <td>http://a0.twimg.com/profile_background_images/...</td>\n",
       "      <td>1A1B1F</td>\n",
       "      <td>2FC2EF</td>\n",
       "      <td>3600.0</td>\n",
       "      <td>NaN</td>\n",
       "      <td>NaN</td>\n",
       "      <td>Cogito ergo bestemmio.</td>\n",
       "      <td>2015-02-14 10:54:49</td>\n",
       "      <td>E13</td>\n",
       "    </tr>\n",
       "    <tr>\n",
       "      <th>3</th>\n",
       "      <td>6067292</td>\n",
       "      <td>alesaura</td>\n",
       "      <td>alesstar</td>\n",
       "      <td>40586</td>\n",
       "      <td>640</td>\n",
       "      <td>622</td>\n",
       "      <td>1118</td>\n",
       "      <td>32</td>\n",
       "      <td>Tue May 15 16:55:16 +0000 2007</td>\n",
       "      <td>http://alesstar.wordpress.com/</td>\n",
       "      <td>en</td>\n",
       "      <td>Rome</td>\n",
       "      <td>NaN</td>\n",
       "      <td>NaN</td>\n",
       "      <td>NaN</td>\n",
       "      <td>1.0</td>\n",
       "      <td>http://a0.twimg.com/profile_images/2797534662/...</td>\n",
       "      <td>https://si0.twimg.com/profile_banners/6067292/...</td>\n",
       "      <td>1.0</td>\n",
       "      <td>https://si0.twimg.com/images/themes/theme4/bg.gif</td>\n",
       "      <td>3C3940</td>\n",
       "      <td>https://si0.twimg.com/profile_images/279753466...</td>\n",
       "      <td>FFFFFF</td>\n",
       "      <td>NaN</td>\n",
       "      <td>95E8EC</td>\n",
       "      <td>http://a0.twimg.com/images/themes/theme4/bg.gif</td>\n",
       "      <td>0099B9</td>\n",
       "      <td>0099B9</td>\n",
       "      <td>3600.0</td>\n",
       "      <td>NaN</td>\n",
       "      <td>NaN</td>\n",
       "      <td>Se la vita ti dà sarde, scapocciale!</td>\n",
       "      <td>2015-02-14 10:54:49</td>\n",
       "      <td>E13</td>\n",
       "    </tr>\n",
       "    <tr>\n",
       "      <th>4</th>\n",
       "      <td>6015122</td>\n",
       "      <td>Angelo</td>\n",
       "      <td>PerDiletto</td>\n",
       "      <td>2016</td>\n",
       "      <td>62</td>\n",
       "      <td>64</td>\n",
       "      <td>13</td>\n",
       "      <td>0</td>\n",
       "      <td>Sun May 13 19:52:00 +0000 2007</td>\n",
       "      <td>http://www.flickr.com/per_diletto</td>\n",
       "      <td>it</td>\n",
       "      <td>Rome</td>\n",
       "      <td>iPhone: 44.069630,12.569966</td>\n",
       "      <td>NaN</td>\n",
       "      <td>NaN</td>\n",
       "      <td>1.0</td>\n",
       "      <td>http://a0.twimg.com/profile_images/1073412966/...</td>\n",
       "      <td>NaN</td>\n",
       "      <td>1.0</td>\n",
       "      <td>https://si0.twimg.com/images/themes/theme18/bg...</td>\n",
       "      <td>333333</td>\n",
       "      <td>https://si0.twimg.com/profile_images/107341296...</td>\n",
       "      <td>EEEEEE</td>\n",
       "      <td>NaN</td>\n",
       "      <td>F6F6F6</td>\n",
       "      <td>http://a0.twimg.com/images/themes/theme18/bg.gif</td>\n",
       "      <td>ACDED6</td>\n",
       "      <td>038543</td>\n",
       "      <td>3600.0</td>\n",
       "      <td>NaN</td>\n",
       "      <td>NaN</td>\n",
       "      <td>Je me souviens</td>\n",
       "      <td>2015-02-14 10:54:49</td>\n",
       "      <td>E13</td>\n",
       "    </tr>\n",
       "  </tbody>\n",
       "</table>\n",
       "</div>"
      ],
      "text/plain": [
       "        id              name  ...              updated  dataset\n",
       "0  3610511  Davide Dellacasa  ...  2015-02-14 10:54:49      E13\n",
       "1  5656162    Simone Economo  ...  2015-02-14 10:54:49      E13\n",
       "2  5682702            tacone  ...  2015-02-14 10:54:49      E13\n",
       "3  6067292          alesaura  ...  2015-02-14 10:54:49      E13\n",
       "4  6015122            Angelo  ...  2015-02-14 10:54:49      E13\n",
       "\n",
       "[5 rows x 34 columns]"
      ]
     },
     "execution_count": 12,
     "metadata": {
      "tags": []
     },
     "output_type": "execute_result"
    }
   ],
   "source": [
    "users=pd.read_csv('users.csv')\n",
    "users.head(5)"
   ]
  },
  {
   "cell_type": "code",
   "execution_count": 13,
   "metadata": {
    "colab": {
     "base_uri": "https://localhost:8080/",
     "height": 35
    },
    "colab_type": "code",
    "executionInfo": {
     "elapsed": 1147,
     "status": "ok",
     "timestamp": 1592921232566,
     "user": {
      "displayName": "Ajay Pratap singh",
      "photoUrl": "https://lh3.googleusercontent.com/a-/AOh14Gh4i9MT9GzfPLfUuNaejqTi6c8pe-Yrok_qKR3d=s64",
      "userId": "04438401953446104835"
     },
     "user_tz": -330
    },
    "id": "y0urkMtP52sn",
    "outputId": "28d63af2-0f93-4d2e-c026-696beffdb13c"
   },
   "outputs": [
    {
     "data": {
      "text/plain": [
       "(1481, 34)"
      ]
     },
     "execution_count": 13,
     "metadata": {
      "tags": []
     },
     "output_type": "execute_result"
    }
   ],
   "source": [
    "users.shape"
   ]
  },
  {
   "cell_type": "code",
   "execution_count": 14,
   "metadata": {
    "colab": {
     "base_uri": "https://localhost:8080/",
     "height": 237
    },
    "colab_type": "code",
    "executionInfo": {
     "elapsed": 1111,
     "status": "ok",
     "timestamp": 1592921234205,
     "user": {
      "displayName": "Ajay Pratap singh",
      "photoUrl": "https://lh3.googleusercontent.com/a-/AOh14Gh4i9MT9GzfPLfUuNaejqTi6c8pe-Yrok_qKR3d=s64",
      "userId": "04438401953446104835"
     },
     "user_tz": -330
    },
    "id": "Ap2-IiRZ52s2",
    "outputId": "c159c89e-074e-4682-a791-04b4e58d9ef7"
   },
   "outputs": [
    {
     "data": {
      "text/plain": [
       "Index(['id', 'name', 'screen_name', 'statuses_count', 'followers_count',\n",
       "       'friends_count', 'favourites_count', 'listed_count', 'created_at',\n",
       "       'url', 'lang', 'time_zone', 'location', 'default_profile',\n",
       "       'default_profile_image', 'geo_enabled', 'profile_image_url',\n",
       "       'profile_banner_url', 'profile_use_background_image',\n",
       "       'profile_background_image_url_https', 'profile_text_color',\n",
       "       'profile_image_url_https', 'profile_sidebar_border_color',\n",
       "       'profile_background_tile', 'profile_sidebar_fill_color',\n",
       "       'profile_background_image_url', 'profile_background_color',\n",
       "       'profile_link_color', 'utc_offset', 'protected', 'verified',\n",
       "       'description', 'updated', 'dataset'],\n",
       "      dtype='object')"
      ]
     },
     "execution_count": 14,
     "metadata": {
      "tags": []
     },
     "output_type": "execute_result"
    }
   ],
   "source": [
    "users.columns"
   ]
  },
  {
   "cell_type": "markdown",
   "metadata": {
    "colab_type": "text",
    "id": "G8_yqi9052tC"
   },
   "source": [
    "## Feature Engineering"
   ]
  },
  {
   "cell_type": "markdown",
   "metadata": {
    "colab_type": "text",
    "id": "1EoNE8T852tH"
   },
   "source": [
    "### Adding fake columns"
   ]
  },
  {
   "cell_type": "code",
   "execution_count": 15,
   "metadata": {
    "colab": {},
    "colab_type": "code",
    "executionInfo": {
     "elapsed": 1350,
     "status": "ok",
     "timestamp": 1592921244503,
     "user": {
      "displayName": "Ajay Pratap singh",
      "photoUrl": "https://lh3.googleusercontent.com/a-/AOh14Gh4i9MT9GzfPLfUuNaejqTi6c8pe-Yrok_qKR3d=s64",
      "userId": "04438401953446104835"
     },
     "user_tz": -330
    },
    "id": "VmEDm25d52tJ"
   },
   "outputs": [],
   "source": [
    "users['Is_Fake']=0"
   ]
  },
  {
   "cell_type": "code",
   "execution_count": 16,
   "metadata": {
    "colab": {},
    "colab_type": "code",
    "executionInfo": {
     "elapsed": 1083,
     "status": "ok",
     "timestamp": 1592921246092,
     "user": {
      "displayName": "Ajay Pratap singh",
      "photoUrl": "https://lh3.googleusercontent.com/a-/AOh14Gh4i9MT9GzfPLfUuNaejqTi6c8pe-Yrok_qKR3d=s64",
      "userId": "04438401953446104835"
     },
     "user_tz": -330
    },
    "id": "_7G8RLBT52tU"
   },
   "outputs": [],
   "source": [
    "fake_users['Is_Fake']=1"
   ]
  },
  {
   "cell_type": "markdown",
   "metadata": {
    "colab_type": "text",
    "id": "nRl3Cax952tb"
   },
   "source": [
    "### Joining two data frame"
   ]
  },
  {
   "cell_type": "code",
   "execution_count": 17,
   "metadata": {
    "colab": {},
    "colab_type": "code",
    "executionInfo": {
     "elapsed": 1582,
     "status": "ok",
     "timestamp": 1592921254034,
     "user": {
      "displayName": "Ajay Pratap singh",
      "photoUrl": "https://lh3.googleusercontent.com/a-/AOh14Gh4i9MT9GzfPLfUuNaejqTi6c8pe-Yrok_qKR3d=s64",
      "userId": "04438401953446104835"
     },
     "user_tz": -330
    },
    "id": "KVMfJ1HV52tc"
   },
   "outputs": [],
   "source": [
    "dfs=[users,fake_users]"
   ]
  },
  {
   "cell_type": "code",
   "execution_count": 18,
   "metadata": {
    "colab": {},
    "colab_type": "code",
    "executionInfo": {
     "elapsed": 891,
     "status": "ok",
     "timestamp": 1592921255548,
     "user": {
      "displayName": "Ajay Pratap singh",
      "photoUrl": "https://lh3.googleusercontent.com/a-/AOh14Gh4i9MT9GzfPLfUuNaejqTi6c8pe-Yrok_qKR3d=s64",
      "userId": "04438401953446104835"
     },
     "user_tz": -330
    },
    "id": "zyh5dFuG52th"
   },
   "outputs": [],
   "source": [
    "df=pd.concat(dfs,sort=True)"
   ]
  },
  {
   "cell_type": "code",
   "execution_count": 19,
   "metadata": {
    "colab": {
     "base_uri": "https://localhost:8080/",
     "height": 400
    },
    "colab_type": "code",
    "executionInfo": {
     "elapsed": 1084,
     "status": "ok",
     "timestamp": 1592921257558,
     "user": {
      "displayName": "Ajay Pratap singh",
      "photoUrl": "https://lh3.googleusercontent.com/a-/AOh14Gh4i9MT9GzfPLfUuNaejqTi6c8pe-Yrok_qKR3d=s64",
      "userId": "04438401953446104835"
     },
     "user_tz": -330
    },
    "id": "y9F01Gjk52to",
    "outputId": "c06d9ed3-9dc5-4f36-e39a-7c1f2e440576"
   },
   "outputs": [
    {
     "data": {
      "text/html": [
       "<div>\n",
       "<style scoped>\n",
       "    .dataframe tbody tr th:only-of-type {\n",
       "        vertical-align: middle;\n",
       "    }\n",
       "\n",
       "    .dataframe tbody tr th {\n",
       "        vertical-align: top;\n",
       "    }\n",
       "\n",
       "    .dataframe thead th {\n",
       "        text-align: right;\n",
       "    }\n",
       "</style>\n",
       "<table border=\"1\" class=\"dataframe\">\n",
       "  <thead>\n",
       "    <tr style=\"text-align: right;\">\n",
       "      <th></th>\n",
       "      <th>Is_Fake</th>\n",
       "      <th>created_at</th>\n",
       "      <th>dataset</th>\n",
       "      <th>default_profile</th>\n",
       "      <th>default_profile_image</th>\n",
       "      <th>description</th>\n",
       "      <th>favourites_count</th>\n",
       "      <th>followers_count</th>\n",
       "      <th>friends_count</th>\n",
       "      <th>geo_enabled</th>\n",
       "      <th>id</th>\n",
       "      <th>lang</th>\n",
       "      <th>listed_count</th>\n",
       "      <th>location</th>\n",
       "      <th>name</th>\n",
       "      <th>profile_background_color</th>\n",
       "      <th>profile_background_image_url</th>\n",
       "      <th>profile_background_image_url_https</th>\n",
       "      <th>profile_background_tile</th>\n",
       "      <th>profile_banner_url</th>\n",
       "      <th>profile_image_url</th>\n",
       "      <th>profile_image_url_https</th>\n",
       "      <th>profile_link_color</th>\n",
       "      <th>profile_sidebar_border_color</th>\n",
       "      <th>profile_sidebar_fill_color</th>\n",
       "      <th>profile_text_color</th>\n",
       "      <th>profile_use_background_image</th>\n",
       "      <th>protected</th>\n",
       "      <th>screen_name</th>\n",
       "      <th>statuses_count</th>\n",
       "      <th>time_zone</th>\n",
       "      <th>updated</th>\n",
       "      <th>url</th>\n",
       "      <th>utc_offset</th>\n",
       "      <th>verified</th>\n",
       "    </tr>\n",
       "  </thead>\n",
       "  <tbody>\n",
       "    <tr>\n",
       "      <th>0</th>\n",
       "      <td>0</td>\n",
       "      <td>Fri Apr 06 10:58:22 +0000 2007</td>\n",
       "      <td>E13</td>\n",
       "      <td>NaN</td>\n",
       "      <td>NaN</td>\n",
       "      <td>Founder of http://www.screenweek.it &amp; http://w...</td>\n",
       "      <td>145</td>\n",
       "      <td>5470</td>\n",
       "      <td>2385</td>\n",
       "      <td>NaN</td>\n",
       "      <td>3610511</td>\n",
       "      <td>it</td>\n",
       "      <td>52</td>\n",
       "      <td>Roma</td>\n",
       "      <td>Davide Dellacasa</td>\n",
       "      <td>BADFCD</td>\n",
       "      <td>http://a0.twimg.com/profile_background_images/...</td>\n",
       "      <td>https://si0.twimg.com/profile_background_image...</td>\n",
       "      <td>NaN</td>\n",
       "      <td>https://si0.twimg.com/profile_banners/3610511/...</td>\n",
       "      <td>http://a0.twimg.com/profile_images/1575057050/...</td>\n",
       "      <td>https://si0.twimg.com/profile_images/157505705...</td>\n",
       "      <td>FF0000</td>\n",
       "      <td>F2E195</td>\n",
       "      <td>FFF7CC</td>\n",
       "      <td>0C3E53</td>\n",
       "      <td>1.0</td>\n",
       "      <td>NaN</td>\n",
       "      <td>braddd</td>\n",
       "      <td>20370</td>\n",
       "      <td>Rome</td>\n",
       "      <td>2015-02-14 10:54:49</td>\n",
       "      <td>http://braddd.tumblr.com</td>\n",
       "      <td>3600.0</td>\n",
       "      <td>NaN</td>\n",
       "    </tr>\n",
       "    <tr>\n",
       "      <th>1</th>\n",
       "      <td>0</td>\n",
       "      <td>Mon Apr 30 15:08:42 +0000 2007</td>\n",
       "      <td>E13</td>\n",
       "      <td>NaN</td>\n",
       "      <td>NaN</td>\n",
       "      <td>BSc degree (cum laude) in Computer Engineering...</td>\n",
       "      <td>9</td>\n",
       "      <td>506</td>\n",
       "      <td>381</td>\n",
       "      <td>NaN</td>\n",
       "      <td>5656162</td>\n",
       "      <td>en</td>\n",
       "      <td>40</td>\n",
       "      <td>Rome, Italy</td>\n",
       "      <td>Simone Economo</td>\n",
       "      <td>C0DEED</td>\n",
       "      <td>http://a0.twimg.com/images/themes/theme1/bg.png</td>\n",
       "      <td>https://si0.twimg.com/images/themes/theme1/bg.png</td>\n",
       "      <td>NaN</td>\n",
       "      <td>NaN</td>\n",
       "      <td>http://a0.twimg.com/profile_images/1901298312/...</td>\n",
       "      <td>https://si0.twimg.com/profile_images/190129831...</td>\n",
       "      <td>0084B4</td>\n",
       "      <td>FFFFFF</td>\n",
       "      <td>DDEEF6</td>\n",
       "      <td>333333</td>\n",
       "      <td>1.0</td>\n",
       "      <td>NaN</td>\n",
       "      <td>eKoeS</td>\n",
       "      <td>3131</td>\n",
       "      <td>Rome</td>\n",
       "      <td>2015-02-14 10:54:49</td>\n",
       "      <td>http://www.lineheight.net/</td>\n",
       "      <td>3600.0</td>\n",
       "      <td>NaN</td>\n",
       "    </tr>\n",
       "    <tr>\n",
       "      <th>2</th>\n",
       "      <td>0</td>\n",
       "      <td>Tue May 01 11:53:40 +0000 2007</td>\n",
       "      <td>E13</td>\n",
       "      <td>NaN</td>\n",
       "      <td>NaN</td>\n",
       "      <td>Cogito ergo bestemmio.</td>\n",
       "      <td>323</td>\n",
       "      <td>264</td>\n",
       "      <td>87</td>\n",
       "      <td>NaN</td>\n",
       "      <td>5682702</td>\n",
       "      <td>en</td>\n",
       "      <td>16</td>\n",
       "      <td>Internets</td>\n",
       "      <td>tacone</td>\n",
       "      <td>1A1B1F</td>\n",
       "      <td>http://a0.twimg.com/profile_background_images/...</td>\n",
       "      <td>https://si0.twimg.com/profile_background_image...</td>\n",
       "      <td>1.0</td>\n",
       "      <td>https://si0.twimg.com/profile_banners/5682702/...</td>\n",
       "      <td>http://a0.twimg.com/profile_images/1640620850/...</td>\n",
       "      <td>https://si0.twimg.com/profile_images/164062085...</td>\n",
       "      <td>2FC2EF</td>\n",
       "      <td>181A1E</td>\n",
       "      <td>000000</td>\n",
       "      <td>666666</td>\n",
       "      <td>1.0</td>\n",
       "      <td>NaN</td>\n",
       "      <td>tacone_</td>\n",
       "      <td>4024</td>\n",
       "      <td>Rome</td>\n",
       "      <td>2015-02-14 10:54:49</td>\n",
       "      <td>http://t.co/LKrl1dZE</td>\n",
       "      <td>3600.0</td>\n",
       "      <td>NaN</td>\n",
       "    </tr>\n",
       "    <tr>\n",
       "      <th>3</th>\n",
       "      <td>0</td>\n",
       "      <td>Tue May 15 16:55:16 +0000 2007</td>\n",
       "      <td>E13</td>\n",
       "      <td>NaN</td>\n",
       "      <td>NaN</td>\n",
       "      <td>Se la vita ti dà sarde, scapocciale!</td>\n",
       "      <td>1118</td>\n",
       "      <td>640</td>\n",
       "      <td>622</td>\n",
       "      <td>1.0</td>\n",
       "      <td>6067292</td>\n",
       "      <td>en</td>\n",
       "      <td>32</td>\n",
       "      <td>NaN</td>\n",
       "      <td>alesaura</td>\n",
       "      <td>0099B9</td>\n",
       "      <td>http://a0.twimg.com/images/themes/theme4/bg.gif</td>\n",
       "      <td>https://si0.twimg.com/images/themes/theme4/bg.gif</td>\n",
       "      <td>NaN</td>\n",
       "      <td>https://si0.twimg.com/profile_banners/6067292/...</td>\n",
       "      <td>http://a0.twimg.com/profile_images/2797534662/...</td>\n",
       "      <td>https://si0.twimg.com/profile_images/279753466...</td>\n",
       "      <td>0099B9</td>\n",
       "      <td>FFFFFF</td>\n",
       "      <td>95E8EC</td>\n",
       "      <td>3C3940</td>\n",
       "      <td>1.0</td>\n",
       "      <td>NaN</td>\n",
       "      <td>alesstar</td>\n",
       "      <td>40586</td>\n",
       "      <td>Rome</td>\n",
       "      <td>2015-02-14 10:54:49</td>\n",
       "      <td>http://alesstar.wordpress.com/</td>\n",
       "      <td>3600.0</td>\n",
       "      <td>NaN</td>\n",
       "    </tr>\n",
       "    <tr>\n",
       "      <th>4</th>\n",
       "      <td>0</td>\n",
       "      <td>Sun May 13 19:52:00 +0000 2007</td>\n",
       "      <td>E13</td>\n",
       "      <td>NaN</td>\n",
       "      <td>NaN</td>\n",
       "      <td>Je me souviens</td>\n",
       "      <td>13</td>\n",
       "      <td>62</td>\n",
       "      <td>64</td>\n",
       "      <td>1.0</td>\n",
       "      <td>6015122</td>\n",
       "      <td>it</td>\n",
       "      <td>0</td>\n",
       "      <td>iPhone: 44.069630,12.569966</td>\n",
       "      <td>Angelo</td>\n",
       "      <td>ACDED6</td>\n",
       "      <td>http://a0.twimg.com/images/themes/theme18/bg.gif</td>\n",
       "      <td>https://si0.twimg.com/images/themes/theme18/bg...</td>\n",
       "      <td>NaN</td>\n",
       "      <td>NaN</td>\n",
       "      <td>http://a0.twimg.com/profile_images/1073412966/...</td>\n",
       "      <td>https://si0.twimg.com/profile_images/107341296...</td>\n",
       "      <td>038543</td>\n",
       "      <td>EEEEEE</td>\n",
       "      <td>F6F6F6</td>\n",
       "      <td>333333</td>\n",
       "      <td>1.0</td>\n",
       "      <td>NaN</td>\n",
       "      <td>PerDiletto</td>\n",
       "      <td>2016</td>\n",
       "      <td>Rome</td>\n",
       "      <td>2015-02-14 10:54:49</td>\n",
       "      <td>http://www.flickr.com/per_diletto</td>\n",
       "      <td>3600.0</td>\n",
       "      <td>NaN</td>\n",
       "    </tr>\n",
       "  </tbody>\n",
       "</table>\n",
       "</div>"
      ],
      "text/plain": [
       "   Is_Fake                      created_at  ... utc_offset  verified\n",
       "0        0  Fri Apr 06 10:58:22 +0000 2007  ...     3600.0       NaN\n",
       "1        0  Mon Apr 30 15:08:42 +0000 2007  ...     3600.0       NaN\n",
       "2        0  Tue May 01 11:53:40 +0000 2007  ...     3600.0       NaN\n",
       "3        0  Tue May 15 16:55:16 +0000 2007  ...     3600.0       NaN\n",
       "4        0  Sun May 13 19:52:00 +0000 2007  ...     3600.0       NaN\n",
       "\n",
       "[5 rows x 35 columns]"
      ]
     },
     "execution_count": 19,
     "metadata": {
      "tags": []
     },
     "output_type": "execute_result"
    }
   ],
   "source": [
    "df.head()"
   ]
  },
  {
   "cell_type": "code",
   "execution_count": 20,
   "metadata": {
    "colab": {
     "base_uri": "https://localhost:8080/",
     "height": 72
    },
    "colab_type": "code",
    "executionInfo": {
     "elapsed": 1009,
     "status": "ok",
     "timestamp": 1592921264626,
     "user": {
      "displayName": "Ajay Pratap singh",
      "photoUrl": "https://lh3.googleusercontent.com/a-/AOh14Gh4i9MT9GzfPLfUuNaejqTi6c8pe-Yrok_qKR3d=s64",
      "userId": "04438401953446104835"
     },
     "user_tz": -330
    },
    "id": "YnSO2dKb52tu",
    "outputId": "a7ef000a-b8fb-4bf9-b2ec-a695afbad5f4"
   },
   "outputs": [
    {
     "data": {
      "text/plain": [
       "0    1481\n",
       "1    1337\n",
       "Name: Is_Fake, dtype: int64"
      ]
     },
     "execution_count": 20,
     "metadata": {
      "tags": []
     },
     "output_type": "execute_result"
    }
   ],
   "source": [
    "df['Is_Fake'].value_counts()"
   ]
  },
  {
   "cell_type": "code",
   "execution_count": 21,
   "metadata": {
    "colab": {
     "base_uri": "https://localhost:8080/",
     "height": 35
    },
    "colab_type": "code",
    "executionInfo": {
     "elapsed": 1352,
     "status": "ok",
     "timestamp": 1592921268718,
     "user": {
      "displayName": "Ajay Pratap singh",
      "photoUrl": "https://lh3.googleusercontent.com/a-/AOh14Gh4i9MT9GzfPLfUuNaejqTi6c8pe-Yrok_qKR3d=s64",
      "userId": "04438401953446104835"
     },
     "user_tz": -330
    },
    "id": "M_0HEPs252t1",
    "outputId": "d148775d-a71c-45bb-8a2a-f01d7beebd6d"
   },
   "outputs": [
    {
     "data": {
      "text/plain": [
       "(2818, 35)"
      ]
     },
     "execution_count": 21,
     "metadata": {
      "tags": []
     },
     "output_type": "execute_result"
    }
   ],
   "source": [
    "df.shape"
   ]
  },
  {
   "cell_type": "code",
   "execution_count": 22,
   "metadata": {
    "colab": {
     "base_uri": "https://localhost:8080/",
     "height": 788
    },
    "colab_type": "code",
    "executionInfo": {
     "elapsed": 1490,
     "status": "ok",
     "timestamp": 1592921270771,
     "user": {
      "displayName": "Ajay Pratap singh",
      "photoUrl": "https://lh3.googleusercontent.com/a-/AOh14Gh4i9MT9GzfPLfUuNaejqTi6c8pe-Yrok_qKR3d=s64",
      "userId": "04438401953446104835"
     },
     "user_tz": -330
    },
    "id": "5nKZPoq152t6",
    "outputId": "d6be66a8-5da5-4954-cf1b-3885aacb5fa3"
   },
   "outputs": [
    {
     "name": "stdout",
     "output_type": "stream",
     "text": [
      "<class 'pandas.core.frame.DataFrame'>\n",
      "Int64Index: 2818 entries, 0 to 1336\n",
      "Data columns (total 35 columns):\n",
      " #   Column                              Non-Null Count  Dtype  \n",
      "---  ------                              --------------  -----  \n",
      " 0   Is_Fake                             2818 non-null   int64  \n",
      " 1   created_at                          2818 non-null   object \n",
      " 2   dataset                             2818 non-null   object \n",
      " 3   default_profile                     1728 non-null   float64\n",
      " 4   default_profile_image               8 non-null      float64\n",
      " 5   description                         2547 non-null   object \n",
      " 6   favourites_count                    2818 non-null   int64  \n",
      " 7   followers_count                     2818 non-null   int64  \n",
      " 8   friends_count                       2818 non-null   int64  \n",
      " 9   geo_enabled                         721 non-null    float64\n",
      " 10  id                                  2818 non-null   int64  \n",
      " 11  lang                                2818 non-null   object \n",
      " 12  listed_count                        2818 non-null   int64  \n",
      " 13  location                            2271 non-null   object \n",
      " 14  name                                2818 non-null   object \n",
      " 15  profile_background_color            2818 non-null   object \n",
      " 16  profile_background_image_url        2818 non-null   object \n",
      " 17  profile_background_image_url_https  2818 non-null   object \n",
      " 18  profile_background_tile             489 non-null    float64\n",
      " 19  profile_banner_url                  987 non-null    object \n",
      " 20  profile_image_url                   2818 non-null   object \n",
      " 21  profile_image_url_https             2818 non-null   object \n",
      " 22  profile_link_color                  2818 non-null   object \n",
      " 23  profile_sidebar_border_color        2818 non-null   object \n",
      " 24  profile_sidebar_fill_color          2818 non-null   object \n",
      " 25  profile_text_color                  2818 non-null   object \n",
      " 26  profile_use_background_image        2760 non-null   float64\n",
      " 27  protected                           0 non-null      float64\n",
      " 28  screen_name                         2818 non-null   object \n",
      " 29  statuses_count                      2818 non-null   int64  \n",
      " 30  time_zone                           1069 non-null   object \n",
      " 31  updated                             2818 non-null   object \n",
      " 32  url                                 463 non-null    object \n",
      " 33  utc_offset                          1069 non-null   float64\n",
      " 34  verified                            0 non-null      float64\n",
      "dtypes: float64(8), int64(7), object(20)\n",
      "memory usage: 792.6+ KB\n"
     ]
    }
   ],
   "source": [
    "df.info()"
   ]
  },
  {
   "cell_type": "code",
   "execution_count": 23,
   "metadata": {
    "colab": {
     "base_uri": "https://localhost:8080/",
     "height": 678
    },
    "colab_type": "code",
    "executionInfo": {
     "elapsed": 1127,
     "status": "ok",
     "timestamp": 1592921274959,
     "user": {
      "displayName": "Ajay Pratap singh",
      "photoUrl": "https://lh3.googleusercontent.com/a-/AOh14Gh4i9MT9GzfPLfUuNaejqTi6c8pe-Yrok_qKR3d=s64",
      "userId": "04438401953446104835"
     },
     "user_tz": -330
    },
    "id": "8Femcb_u52t-",
    "outputId": "ced7ce6a-30d6-43e1-97b2-242dd7df1585"
   },
   "outputs": [
    {
     "data": {
      "text/plain": [
       "Is_Fake                                  0\n",
       "created_at                               0\n",
       "dataset                                  0\n",
       "default_profile                       1090\n",
       "default_profile_image                 2810\n",
       "description                            271\n",
       "favourites_count                         0\n",
       "followers_count                          0\n",
       "friends_count                            0\n",
       "geo_enabled                           2097\n",
       "id                                       0\n",
       "lang                                     0\n",
       "listed_count                             0\n",
       "location                               547\n",
       "name                                     0\n",
       "profile_background_color                 0\n",
       "profile_background_image_url             0\n",
       "profile_background_image_url_https       0\n",
       "profile_background_tile               2329\n",
       "profile_banner_url                    1831\n",
       "profile_image_url                        0\n",
       "profile_image_url_https                  0\n",
       "profile_link_color                       0\n",
       "profile_sidebar_border_color             0\n",
       "profile_sidebar_fill_color               0\n",
       "profile_text_color                       0\n",
       "profile_use_background_image            58\n",
       "protected                             2818\n",
       "screen_name                              0\n",
       "statuses_count                           0\n",
       "time_zone                             1749\n",
       "updated                                  0\n",
       "url                                   2355\n",
       "utc_offset                            1749\n",
       "verified                              2818\n",
       "dtype: int64"
      ]
     },
     "execution_count": 23,
     "metadata": {
      "tags": []
     },
     "output_type": "execute_result"
    }
   ],
   "source": [
    "df.isnull().sum()"
   ]
  },
  {
   "cell_type": "markdown",
   "metadata": {
    "colab_type": "text",
    "id": "1MJ9oa3952uF"
   },
   "source": [
    "### Selecting the important features"
   ]
  },
  {
   "cell_type": "code",
   "execution_count": 24,
   "metadata": {
    "colab": {
     "base_uri": "https://localhost:8080/",
     "height": 320
    },
    "colab_type": "code",
    "executionInfo": {
     "elapsed": 1186,
     "status": "ok",
     "timestamp": 1592921285855,
     "user": {
      "displayName": "Ajay Pratap singh",
      "photoUrl": "https://lh3.googleusercontent.com/a-/AOh14Gh4i9MT9GzfPLfUuNaejqTi6c8pe-Yrok_qKR3d=s64",
      "userId": "04438401953446104835"
     },
     "user_tz": -330
    },
    "id": "dojsGX5m52uH",
    "outputId": "e4d8b413-1582-4c43-d355-9d3fecedf7a9"
   },
   "outputs": [
    {
     "data": {
      "text/html": [
       "<div>\n",
       "<style scoped>\n",
       "    .dataframe tbody tr th:only-of-type {\n",
       "        vertical-align: middle;\n",
       "    }\n",
       "\n",
       "    .dataframe tbody tr th {\n",
       "        vertical-align: top;\n",
       "    }\n",
       "\n",
       "    .dataframe thead th {\n",
       "        text-align: right;\n",
       "    }\n",
       "</style>\n",
       "<table border=\"1\" class=\"dataframe\">\n",
       "  <thead>\n",
       "    <tr style=\"text-align: right;\">\n",
       "      <th></th>\n",
       "      <th>Is_Fake</th>\n",
       "      <th>default_profile</th>\n",
       "      <th>default_profile_image</th>\n",
       "      <th>favourites_count</th>\n",
       "      <th>followers_count</th>\n",
       "      <th>friends_count</th>\n",
       "      <th>geo_enabled</th>\n",
       "      <th>id</th>\n",
       "      <th>listed_count</th>\n",
       "      <th>profile_background_tile</th>\n",
       "      <th>profile_use_background_image</th>\n",
       "      <th>protected</th>\n",
       "      <th>statuses_count</th>\n",
       "      <th>utc_offset</th>\n",
       "      <th>verified</th>\n",
       "    </tr>\n",
       "  </thead>\n",
       "  <tbody>\n",
       "    <tr>\n",
       "      <th>count</th>\n",
       "      <td>2818.000000</td>\n",
       "      <td>1728.0</td>\n",
       "      <td>8.0</td>\n",
       "      <td>2818.000000</td>\n",
       "      <td>2818.000000</td>\n",
       "      <td>2818.000000</td>\n",
       "      <td>721.0</td>\n",
       "      <td>2.818000e+03</td>\n",
       "      <td>2818.000000</td>\n",
       "      <td>489.0</td>\n",
       "      <td>2760.0</td>\n",
       "      <td>0.0</td>\n",
       "      <td>2818.000000</td>\n",
       "      <td>1069.000000</td>\n",
       "      <td>0.0</td>\n",
       "    </tr>\n",
       "    <tr>\n",
       "      <th>mean</th>\n",
       "      <td>0.474450</td>\n",
       "      <td>1.0</td>\n",
       "      <td>1.0</td>\n",
       "      <td>234.541164</td>\n",
       "      <td>371.105039</td>\n",
       "      <td>395.363023</td>\n",
       "      <td>1.0</td>\n",
       "      <td>5.374889e+08</td>\n",
       "      <td>2.818666</td>\n",
       "      <td>1.0</td>\n",
       "      <td>1.0</td>\n",
       "      <td>NaN</td>\n",
       "      <td>1672.198368</td>\n",
       "      <td>1478.391020</td>\n",
       "      <td>NaN</td>\n",
       "    </tr>\n",
       "    <tr>\n",
       "      <th>std</th>\n",
       "      <td>0.499435</td>\n",
       "      <td>0.0</td>\n",
       "      <td>0.0</td>\n",
       "      <td>1445.847248</td>\n",
       "      <td>8022.631339</td>\n",
       "      <td>465.694322</td>\n",
       "      <td>0.0</td>\n",
       "      <td>2.977005e+08</td>\n",
       "      <td>23.480430</td>\n",
       "      <td>0.0</td>\n",
       "      <td>0.0</td>\n",
       "      <td>NaN</td>\n",
       "      <td>4884.669157</td>\n",
       "      <td>8108.211889</td>\n",
       "      <td>NaN</td>\n",
       "    </tr>\n",
       "    <tr>\n",
       "      <th>min</th>\n",
       "      <td>0.000000</td>\n",
       "      <td>1.0</td>\n",
       "      <td>1.0</td>\n",
       "      <td>0.000000</td>\n",
       "      <td>0.000000</td>\n",
       "      <td>0.000000</td>\n",
       "      <td>1.0</td>\n",
       "      <td>3.610511e+06</td>\n",
       "      <td>0.000000</td>\n",
       "      <td>1.0</td>\n",
       "      <td>1.0</td>\n",
       "      <td>NaN</td>\n",
       "      <td>0.000000</td>\n",
       "      <td>-39600.000000</td>\n",
       "      <td>NaN</td>\n",
       "    </tr>\n",
       "    <tr>\n",
       "      <th>25%</th>\n",
       "      <td>0.000000</td>\n",
       "      <td>1.0</td>\n",
       "      <td>1.0</td>\n",
       "      <td>0.000000</td>\n",
       "      <td>17.000000</td>\n",
       "      <td>168.000000</td>\n",
       "      <td>1.0</td>\n",
       "      <td>3.620867e+08</td>\n",
       "      <td>0.000000</td>\n",
       "      <td>1.0</td>\n",
       "      <td>1.0</td>\n",
       "      <td>NaN</td>\n",
       "      <td>35.000000</td>\n",
       "      <td>3600.000000</td>\n",
       "      <td>NaN</td>\n",
       "    </tr>\n",
       "    <tr>\n",
       "      <th>50%</th>\n",
       "      <td>0.000000</td>\n",
       "      <td>1.0</td>\n",
       "      <td>1.0</td>\n",
       "      <td>0.000000</td>\n",
       "      <td>26.000000</td>\n",
       "      <td>306.000000</td>\n",
       "      <td>1.0</td>\n",
       "      <td>6.162253e+08</td>\n",
       "      <td>0.000000</td>\n",
       "      <td>1.0</td>\n",
       "      <td>1.0</td>\n",
       "      <td>NaN</td>\n",
       "      <td>77.000000</td>\n",
       "      <td>3600.000000</td>\n",
       "      <td>NaN</td>\n",
       "    </tr>\n",
       "    <tr>\n",
       "      <th>75%</th>\n",
       "      <td>1.000000</td>\n",
       "      <td>1.0</td>\n",
       "      <td>1.0</td>\n",
       "      <td>37.000000</td>\n",
       "      <td>111.000000</td>\n",
       "      <td>519.000000</td>\n",
       "      <td>1.0</td>\n",
       "      <td>6.177673e+08</td>\n",
       "      <td>1.000000</td>\n",
       "      <td>1.0</td>\n",
       "      <td>1.0</td>\n",
       "      <td>NaN</td>\n",
       "      <td>1087.750000</td>\n",
       "      <td>3600.000000</td>\n",
       "      <td>NaN</td>\n",
       "    </tr>\n",
       "    <tr>\n",
       "      <th>max</th>\n",
       "      <td>1.000000</td>\n",
       "      <td>1.0</td>\n",
       "      <td>1.0</td>\n",
       "      <td>44349.000000</td>\n",
       "      <td>408372.000000</td>\n",
       "      <td>12773.000000</td>\n",
       "      <td>1.0</td>\n",
       "      <td>1.391998e+09</td>\n",
       "      <td>744.000000</td>\n",
       "      <td>1.0</td>\n",
       "      <td>1.0</td>\n",
       "      <td>NaN</td>\n",
       "      <td>79876.000000</td>\n",
       "      <td>36000.000000</td>\n",
       "      <td>NaN</td>\n",
       "    </tr>\n",
       "  </tbody>\n",
       "</table>\n",
       "</div>"
      ],
      "text/plain": [
       "           Is_Fake  default_profile  ...    utc_offset  verified\n",
       "count  2818.000000           1728.0  ...   1069.000000       0.0\n",
       "mean      0.474450              1.0  ...   1478.391020       NaN\n",
       "std       0.499435              0.0  ...   8108.211889       NaN\n",
       "min       0.000000              1.0  ... -39600.000000       NaN\n",
       "25%       0.000000              1.0  ...   3600.000000       NaN\n",
       "50%       0.000000              1.0  ...   3600.000000       NaN\n",
       "75%       1.000000              1.0  ...   3600.000000       NaN\n",
       "max       1.000000              1.0  ...  36000.000000       NaN\n",
       "\n",
       "[8 rows x 15 columns]"
      ]
     },
     "execution_count": 24,
     "metadata": {
      "tags": []
     },
     "output_type": "execute_result"
    }
   ],
   "source": [
    "df.describe()"
   ]
  },
  {
   "cell_type": "code",
   "execution_count": 25,
   "metadata": {
    "colab": {
     "base_uri": "https://localhost:8080/",
     "height": 237
    },
    "colab_type": "code",
    "executionInfo": {
     "elapsed": 1100,
     "status": "ok",
     "timestamp": 1592921288060,
     "user": {
      "displayName": "Ajay Pratap singh",
      "photoUrl": "https://lh3.googleusercontent.com/a-/AOh14Gh4i9MT9GzfPLfUuNaejqTi6c8pe-Yrok_qKR3d=s64",
      "userId": "04438401953446104835"
     },
     "user_tz": -330
    },
    "id": "5E8IY8_B52uN",
    "outputId": "a303d47b-13fe-4a83-af81-1be6e1d8a420"
   },
   "outputs": [
    {
     "data": {
      "text/plain": [
       "Is_Fake  lang\n",
       "0        it      1297\n",
       "         en       166\n",
       "         es        10\n",
       "         fr         3\n",
       "         de         2\n",
       "         gl         1\n",
       "         nl         1\n",
       "         tr         1\n",
       "1        en      1336\n",
       "         es         1\n",
       "Name: lang, dtype: int64"
      ]
     },
     "execution_count": 25,
     "metadata": {
      "tags": []
     },
     "output_type": "execute_result"
    }
   ],
   "source": [
    "df.groupby('Is_Fake')['lang'].value_counts()"
   ]
  },
  {
   "cell_type": "code",
   "execution_count": 26,
   "metadata": {
    "colab": {
     "base_uri": "https://localhost:8080/",
     "height": 256
    },
    "colab_type": "code",
    "executionInfo": {
     "elapsed": 1150,
     "status": "ok",
     "timestamp": 1592921292249,
     "user": {
      "displayName": "Ajay Pratap singh",
      "photoUrl": "https://lh3.googleusercontent.com/a-/AOh14Gh4i9MT9GzfPLfUuNaejqTi6c8pe-Yrok_qKR3d=s64",
      "userId": "04438401953446104835"
     },
     "user_tz": -330
    },
    "id": "9aR_Z06O52uT",
    "outputId": "4f2c94c6-325c-4141-b0c2-081e473318f3"
   },
   "outputs": [
    {
     "data": {
      "text/plain": [
       "Is_Fake  listed_count\n",
       "0        0                703\n",
       "         1                276\n",
       "         2                134\n",
       "         3                 70\n",
       "         4                 52\n",
       "                         ... \n",
       "         486                1\n",
       "         715                1\n",
       "         744                1\n",
       "1        0               1333\n",
       "         1                  4\n",
       "Name: listed_count, Length: 67, dtype: int64"
      ]
     },
     "execution_count": 26,
     "metadata": {
      "tags": []
     },
     "output_type": "execute_result"
    }
   ],
   "source": [
    "df.groupby('Is_Fake')['listed_count'].value_counts()"
   ]
  },
  {
   "cell_type": "code",
   "execution_count": 27,
   "metadata": {
    "colab": {
     "base_uri": "https://localhost:8080/",
     "height": 90
    },
    "colab_type": "code",
    "executionInfo": {
     "elapsed": 1390,
     "status": "ok",
     "timestamp": 1592921294805,
     "user": {
      "displayName": "Ajay Pratap singh",
      "photoUrl": "https://lh3.googleusercontent.com/a-/AOh14Gh4i9MT9GzfPLfUuNaejqTi6c8pe-Yrok_qKR3d=s64",
      "userId": "04438401953446104835"
     },
     "user_tz": -330
    },
    "id": "n4OnlVgb52ub",
    "outputId": "55db2ef3-713a-4bc4-b283-cd6f186bcd1a"
   },
   "outputs": [
    {
     "data": {
      "text/plain": [
       "Is_Fake  default_profile\n",
       "0        1.0                 397\n",
       "1        1.0                1331\n",
       "Name: default_profile, dtype: int64"
      ]
     },
     "execution_count": 27,
     "metadata": {
      "tags": []
     },
     "output_type": "execute_result"
    }
   ],
   "source": [
    "df.groupby('Is_Fake')['default_profile'].value_counts()"
   ]
  },
  {
   "cell_type": "markdown",
   "metadata": {
    "colab_type": "text",
    "id": "nQ1uS66S52ue"
   },
   "source": [
    "## Creating a new data frame with important features "
   ]
  },
  {
   "cell_type": "code",
   "execution_count": 28,
   "metadata": {
    "colab": {},
    "colab_type": "code",
    "executionInfo": {
     "elapsed": 1372,
     "status": "ok",
     "timestamp": 1592921299174,
     "user": {
      "displayName": "Ajay Pratap singh",
      "photoUrl": "https://lh3.googleusercontent.com/a-/AOh14Gh4i9MT9GzfPLfUuNaejqTi6c8pe-Yrok_qKR3d=s64",
      "userId": "04438401953446104835"
     },
     "user_tz": -330
    },
    "id": "W2MTqd9i52ug"
   },
   "outputs": [],
   "source": [
    "df1=df[['favourites_count','followers_count','statuses_count','friends_count','listed_count','geo_enabled','default_profile','profile_use_background_image','Is_Fake']]"
   ]
  },
  {
   "cell_type": "code",
   "execution_count": 29,
   "metadata": {
    "colab": {
     "base_uri": "https://localhost:8080/",
     "height": 206
    },
    "colab_type": "code",
    "executionInfo": {
     "elapsed": 807,
     "status": "ok",
     "timestamp": 1592921300741,
     "user": {
      "displayName": "Ajay Pratap singh",
      "photoUrl": "https://lh3.googleusercontent.com/a-/AOh14Gh4i9MT9GzfPLfUuNaejqTi6c8pe-Yrok_qKR3d=s64",
      "userId": "04438401953446104835"
     },
     "user_tz": -330
    },
    "id": "PF-huBQE52um",
    "outputId": "9fa4a423-a68e-4e9f-81a0-2d29ae79c685"
   },
   "outputs": [
    {
     "data": {
      "text/html": [
       "<div>\n",
       "<style scoped>\n",
       "    .dataframe tbody tr th:only-of-type {\n",
       "        vertical-align: middle;\n",
       "    }\n",
       "\n",
       "    .dataframe tbody tr th {\n",
       "        vertical-align: top;\n",
       "    }\n",
       "\n",
       "    .dataframe thead th {\n",
       "        text-align: right;\n",
       "    }\n",
       "</style>\n",
       "<table border=\"1\" class=\"dataframe\">\n",
       "  <thead>\n",
       "    <tr style=\"text-align: right;\">\n",
       "      <th></th>\n",
       "      <th>favourites_count</th>\n",
       "      <th>followers_count</th>\n",
       "      <th>statuses_count</th>\n",
       "      <th>friends_count</th>\n",
       "      <th>listed_count</th>\n",
       "      <th>geo_enabled</th>\n",
       "      <th>default_profile</th>\n",
       "      <th>profile_use_background_image</th>\n",
       "      <th>Is_Fake</th>\n",
       "    </tr>\n",
       "  </thead>\n",
       "  <tbody>\n",
       "    <tr>\n",
       "      <th>0</th>\n",
       "      <td>145</td>\n",
       "      <td>5470</td>\n",
       "      <td>20370</td>\n",
       "      <td>2385</td>\n",
       "      <td>52</td>\n",
       "      <td>NaN</td>\n",
       "      <td>NaN</td>\n",
       "      <td>1.0</td>\n",
       "      <td>0</td>\n",
       "    </tr>\n",
       "    <tr>\n",
       "      <th>1</th>\n",
       "      <td>9</td>\n",
       "      <td>506</td>\n",
       "      <td>3131</td>\n",
       "      <td>381</td>\n",
       "      <td>40</td>\n",
       "      <td>NaN</td>\n",
       "      <td>NaN</td>\n",
       "      <td>1.0</td>\n",
       "      <td>0</td>\n",
       "    </tr>\n",
       "    <tr>\n",
       "      <th>2</th>\n",
       "      <td>323</td>\n",
       "      <td>264</td>\n",
       "      <td>4024</td>\n",
       "      <td>87</td>\n",
       "      <td>16</td>\n",
       "      <td>NaN</td>\n",
       "      <td>NaN</td>\n",
       "      <td>1.0</td>\n",
       "      <td>0</td>\n",
       "    </tr>\n",
       "    <tr>\n",
       "      <th>3</th>\n",
       "      <td>1118</td>\n",
       "      <td>640</td>\n",
       "      <td>40586</td>\n",
       "      <td>622</td>\n",
       "      <td>32</td>\n",
       "      <td>1.0</td>\n",
       "      <td>NaN</td>\n",
       "      <td>1.0</td>\n",
       "      <td>0</td>\n",
       "    </tr>\n",
       "    <tr>\n",
       "      <th>4</th>\n",
       "      <td>13</td>\n",
       "      <td>62</td>\n",
       "      <td>2016</td>\n",
       "      <td>64</td>\n",
       "      <td>0</td>\n",
       "      <td>1.0</td>\n",
       "      <td>NaN</td>\n",
       "      <td>1.0</td>\n",
       "      <td>0</td>\n",
       "    </tr>\n",
       "  </tbody>\n",
       "</table>\n",
       "</div>"
      ],
      "text/plain": [
       "   favourites_count  followers_count  ...  profile_use_background_image  Is_Fake\n",
       "0               145             5470  ...                           1.0        0\n",
       "1                 9              506  ...                           1.0        0\n",
       "2               323              264  ...                           1.0        0\n",
       "3              1118              640  ...                           1.0        0\n",
       "4                13               62  ...                           1.0        0\n",
       "\n",
       "[5 rows x 9 columns]"
      ]
     },
     "execution_count": 29,
     "metadata": {
      "tags": []
     },
     "output_type": "execute_result"
    }
   ],
   "source": [
    "df1.head()"
   ]
  },
  {
   "cell_type": "code",
   "execution_count": 30,
   "metadata": {
    "colab": {
     "base_uri": "https://localhost:8080/",
     "height": 201
    },
    "colab_type": "code",
    "executionInfo": {
     "elapsed": 1242,
     "status": "ok",
     "timestamp": 1592921303445,
     "user": {
      "displayName": "Ajay Pratap singh",
      "photoUrl": "https://lh3.googleusercontent.com/a-/AOh14Gh4i9MT9GzfPLfUuNaejqTi6c8pe-Yrok_qKR3d=s64",
      "userId": "04438401953446104835"
     },
     "user_tz": -330
    },
    "id": "xRt3h3uC52uu",
    "outputId": "62cf453f-d7eb-4f9a-ad02-d40a1cd3fb81"
   },
   "outputs": [
    {
     "data": {
      "text/plain": [
       "favourites_count                   0\n",
       "followers_count                    0\n",
       "statuses_count                     0\n",
       "friends_count                      0\n",
       "listed_count                       0\n",
       "geo_enabled                     2097\n",
       "default_profile                 1090\n",
       "profile_use_background_image      58\n",
       "Is_Fake                            0\n",
       "dtype: int64"
      ]
     },
     "execution_count": 30,
     "metadata": {
      "tags": []
     },
     "output_type": "execute_result"
    }
   ],
   "source": [
    "df1.isnull().sum()"
   ]
  },
  {
   "cell_type": "markdown",
   "metadata": {
    "colab_type": "text",
    "id": "hTwfInlo52ux"
   },
   "source": [
    "### EDA"
   ]
  },
  {
   "cell_type": "code",
   "execution_count": 31,
   "metadata": {
    "colab": {
     "base_uri": "https://localhost:8080/",
     "height": 109
    },
    "colab_type": "code",
    "executionInfo": {
     "elapsed": 1082,
     "status": "ok",
     "timestamp": 1592921312592,
     "user": {
      "displayName": "Ajay Pratap singh",
      "photoUrl": "https://lh3.googleusercontent.com/a-/AOh14Gh4i9MT9GzfPLfUuNaejqTi6c8pe-Yrok_qKR3d=s64",
      "userId": "04438401953446104835"
     },
     "user_tz": -330
    },
    "id": "irXuZyiW52ux",
    "outputId": "bc3f14e6-efb4-48ca-b1f6-30061eb2d6ae"
   },
   "outputs": [
    {
     "name": "stderr",
     "output_type": "stream",
     "text": [
      "/usr/local/lib/python3.6/dist-packages/pandas/core/frame.py:4153: SettingWithCopyWarning: \n",
      "A value is trying to be set on a copy of a slice from a DataFrame\n",
      "\n",
      "See the caveats in the documentation: https://pandas.pydata.org/pandas-docs/stable/user_guide/indexing.html#returning-a-view-versus-a-copy\n",
      "  downcast=downcast,\n"
     ]
    }
   ],
   "source": [
    "df1.fillna(value=0,inplace=True)"
   ]
  },
  {
   "cell_type": "code",
   "execution_count": 32,
   "metadata": {
    "colab": {
     "base_uri": "https://localhost:8080/",
     "height": 206
    },
    "colab_type": "code",
    "executionInfo": {
     "elapsed": 955,
     "status": "ok",
     "timestamp": 1592921316587,
     "user": {
      "displayName": "Ajay Pratap singh",
      "photoUrl": "https://lh3.googleusercontent.com/a-/AOh14Gh4i9MT9GzfPLfUuNaejqTi6c8pe-Yrok_qKR3d=s64",
      "userId": "04438401953446104835"
     },
     "user_tz": -330
    },
    "id": "I8eabZz852u4",
    "outputId": "a6d7e10c-c82e-49a5-9dbf-4c9f7d3c906a"
   },
   "outputs": [
    {
     "data": {
      "text/html": [
       "<div>\n",
       "<style scoped>\n",
       "    .dataframe tbody tr th:only-of-type {\n",
       "        vertical-align: middle;\n",
       "    }\n",
       "\n",
       "    .dataframe tbody tr th {\n",
       "        vertical-align: top;\n",
       "    }\n",
       "\n",
       "    .dataframe thead th {\n",
       "        text-align: right;\n",
       "    }\n",
       "</style>\n",
       "<table border=\"1\" class=\"dataframe\">\n",
       "  <thead>\n",
       "    <tr style=\"text-align: right;\">\n",
       "      <th></th>\n",
       "      <th>favourites_count</th>\n",
       "      <th>followers_count</th>\n",
       "      <th>statuses_count</th>\n",
       "      <th>friends_count</th>\n",
       "      <th>listed_count</th>\n",
       "      <th>geo_enabled</th>\n",
       "      <th>default_profile</th>\n",
       "      <th>profile_use_background_image</th>\n",
       "      <th>Is_Fake</th>\n",
       "    </tr>\n",
       "  </thead>\n",
       "  <tbody>\n",
       "    <tr>\n",
       "      <th>0</th>\n",
       "      <td>145</td>\n",
       "      <td>5470</td>\n",
       "      <td>20370</td>\n",
       "      <td>2385</td>\n",
       "      <td>52</td>\n",
       "      <td>0.0</td>\n",
       "      <td>0.0</td>\n",
       "      <td>1.0</td>\n",
       "      <td>0</td>\n",
       "    </tr>\n",
       "    <tr>\n",
       "      <th>1</th>\n",
       "      <td>9</td>\n",
       "      <td>506</td>\n",
       "      <td>3131</td>\n",
       "      <td>381</td>\n",
       "      <td>40</td>\n",
       "      <td>0.0</td>\n",
       "      <td>0.0</td>\n",
       "      <td>1.0</td>\n",
       "      <td>0</td>\n",
       "    </tr>\n",
       "    <tr>\n",
       "      <th>2</th>\n",
       "      <td>323</td>\n",
       "      <td>264</td>\n",
       "      <td>4024</td>\n",
       "      <td>87</td>\n",
       "      <td>16</td>\n",
       "      <td>0.0</td>\n",
       "      <td>0.0</td>\n",
       "      <td>1.0</td>\n",
       "      <td>0</td>\n",
       "    </tr>\n",
       "    <tr>\n",
       "      <th>3</th>\n",
       "      <td>1118</td>\n",
       "      <td>640</td>\n",
       "      <td>40586</td>\n",
       "      <td>622</td>\n",
       "      <td>32</td>\n",
       "      <td>1.0</td>\n",
       "      <td>0.0</td>\n",
       "      <td>1.0</td>\n",
       "      <td>0</td>\n",
       "    </tr>\n",
       "    <tr>\n",
       "      <th>4</th>\n",
       "      <td>13</td>\n",
       "      <td>62</td>\n",
       "      <td>2016</td>\n",
       "      <td>64</td>\n",
       "      <td>0</td>\n",
       "      <td>1.0</td>\n",
       "      <td>0.0</td>\n",
       "      <td>1.0</td>\n",
       "      <td>0</td>\n",
       "    </tr>\n",
       "  </tbody>\n",
       "</table>\n",
       "</div>"
      ],
      "text/plain": [
       "   favourites_count  followers_count  ...  profile_use_background_image  Is_Fake\n",
       "0               145             5470  ...                           1.0        0\n",
       "1                 9              506  ...                           1.0        0\n",
       "2               323              264  ...                           1.0        0\n",
       "3              1118              640  ...                           1.0        0\n",
       "4                13               62  ...                           1.0        0\n",
       "\n",
       "[5 rows x 9 columns]"
      ]
     },
     "execution_count": 32,
     "metadata": {
      "tags": []
     },
     "output_type": "execute_result"
    }
   ],
   "source": [
    "df1.head()"
   ]
  },
  {
   "cell_type": "code",
   "execution_count": 33,
   "metadata": {
    "colab": {
     "base_uri": "https://localhost:8080/",
     "height": 127
    },
    "colab_type": "code",
    "executionInfo": {
     "elapsed": 1198,
     "status": "ok",
     "timestamp": 1592921319723,
     "user": {
      "displayName": "Ajay Pratap singh",
      "photoUrl": "https://lh3.googleusercontent.com/a-/AOh14Gh4i9MT9GzfPLfUuNaejqTi6c8pe-Yrok_qKR3d=s64",
      "userId": "04438401953446104835"
     },
     "user_tz": -330
    },
    "id": "3SqjUPLC52u8",
    "outputId": "2bb19213-9465-4e6b-fb30-164d9e653b71"
   },
   "outputs": [
    {
     "data": {
      "text/plain": [
       "Is_Fake  default_profile\n",
       "0        0.0                1084\n",
       "         1.0                 397\n",
       "1        1.0                1331\n",
       "         0.0                   6\n",
       "Name: default_profile, dtype: int64"
      ]
     },
     "execution_count": 33,
     "metadata": {
      "tags": []
     },
     "output_type": "execute_result"
    }
   ],
   "source": [
    "df1.groupby('Is_Fake')['default_profile'].value_counts()"
   ]
  },
  {
   "cell_type": "code",
   "execution_count": 34,
   "metadata": {
    "colab": {
     "base_uri": "https://localhost:8080/",
     "height": 127
    },
    "colab_type": "code",
    "executionInfo": {
     "elapsed": 1268,
     "status": "ok",
     "timestamp": 1592921323060,
     "user": {
      "displayName": "Ajay Pratap singh",
      "photoUrl": "https://lh3.googleusercontent.com/a-/AOh14Gh4i9MT9GzfPLfUuNaejqTi6c8pe-Yrok_qKR3d=s64",
      "userId": "04438401953446104835"
     },
     "user_tz": -330
    },
    "id": "-WPfztw452vB",
    "outputId": "f6817e85-5a55-4e90-91b9-f8568a29b0aa"
   },
   "outputs": [
    {
     "data": {
      "text/plain": [
       "Is_Fake  geo_enabled\n",
       "0        0.0             762\n",
       "         1.0             719\n",
       "1        0.0            1335\n",
       "         1.0               2\n",
       "Name: geo_enabled, dtype: int64"
      ]
     },
     "execution_count": 34,
     "metadata": {
      "tags": []
     },
     "output_type": "execute_result"
    }
   ],
   "source": [
    "df1.groupby('Is_Fake')['geo_enabled'].value_counts()"
   ]
  },
  {
   "cell_type": "code",
   "execution_count": 35,
   "metadata": {
    "colab": {
     "base_uri": "https://localhost:8080/",
     "height": 302
    },
    "colab_type": "code",
    "executionInfo": {
     "elapsed": 1790,
     "status": "ok",
     "timestamp": 1592921326862,
     "user": {
      "displayName": "Ajay Pratap singh",
      "photoUrl": "https://lh3.googleusercontent.com/a-/AOh14Gh4i9MT9GzfPLfUuNaejqTi6c8pe-Yrok_qKR3d=s64",
      "userId": "04438401953446104835"
     },
     "user_tz": -330
    },
    "id": "JWbIfPe552vM",
    "outputId": "8704ff49-2400-486d-de13-6d42940f3346"
   },
   "outputs": [
    {
     "data": {
      "text/plain": [
       "<matplotlib.axes._subplots.AxesSubplot at 0x7fc3cc6ce3c8>"
      ]
     },
     "execution_count": 35,
     "metadata": {
      "tags": []
     },
     "output_type": "execute_result"
    },
    {
     "data": {
      "image/png": "[encoded data removed]",
      "text/plain": [
       "<Figure size 432x288 with 1 Axes>"
      ]
     },
     "metadata": {
      "needs_background": "light",
      "tags": []
     },
     "output_type": "display_data"
    }
   ],
   "source": [
    "sns.countplot(df1['geo_enabled'],hue=df['Is_Fake'])"
   ]
  },
  {
   "cell_type": "code",
   "execution_count": 36,
   "metadata": {
    "colab": {
     "base_uri": "https://localhost:8080/",
     "height": 298
    },
    "colab_type": "code",
    "executionInfo": {
     "elapsed": 810,
     "status": "ok",
     "timestamp": 1592921328792,
     "user": {
      "displayName": "Ajay Pratap singh",
      "photoUrl": "https://lh3.googleusercontent.com/a-/AOh14Gh4i9MT9GzfPLfUuNaejqTi6c8pe-Yrok_qKR3d=s64",
      "userId": "04438401953446104835"
     },
     "user_tz": -330
    },
    "id": "aY4BxIJU52vP",
    "outputId": "2c36ce4c-3d43-4dd5-e1f5-f07957f34746"
   },
   "outputs": [
    {
     "data": {
      "text/plain": [
       "<matplotlib.axes._subplots.AxesSubplot at 0x7fc3cc681240>"
      ]
     },
     "execution_count": 36,
     "metadata": {
      "tags": []
     },
     "output_type": "execute_result"
    },
    {
     "data": {
      "image/png": "[encoded data removed]",
      "text/plain": [
       "<Figure size 432x288 with 1 Axes>"
      ]
     },
     "metadata": {
      "needs_background": "light",
      "tags": []
     },
     "output_type": "display_data"
    }
   ],
   "source": [
    "sns.countplot(df1['default_profile'],hue=df['Is_Fake'])"
   ]
  },
  {
   "cell_type": "code",
   "execution_count": 37,
   "metadata": {
    "colab": {
     "base_uri": "https://localhost:8080/",
     "height": 109
    },
    "colab_type": "code",
    "executionInfo": {
     "elapsed": 1266,
     "status": "ok",
     "timestamp": 1592921333177,
     "user": {
      "displayName": "Ajay Pratap singh",
      "photoUrl": "https://lh3.googleusercontent.com/a-/AOh14Gh4i9MT9GzfPLfUuNaejqTi6c8pe-Yrok_qKR3d=s64",
      "userId": "04438401953446104835"
     },
     "user_tz": -330
    },
    "id": "yodT6ik452vT",
    "outputId": "18da19d7-b2e3-40ce-ce0f-2c5583830dae"
   },
   "outputs": [
    {
     "data": {
      "text/plain": [
       "Is_Fake  profile_use_background_image\n",
       "0        1.0                             1423\n",
       "         0.0                               58\n",
       "1        1.0                             1337\n",
       "Name: profile_use_background_image, dtype: int64"
      ]
     },
     "execution_count": 37,
     "metadata": {
      "tags": []
     },
     "output_type": "execute_result"
    }
   ],
   "source": [
    "df1.groupby('Is_Fake')['profile_use_background_image'].value_counts()"
   ]
  },
  {
   "cell_type": "code",
   "execution_count": 38,
   "metadata": {
    "colab": {
     "base_uri": "https://localhost:8080/",
     "height": 298
    },
    "colab_type": "code",
    "executionInfo": {
     "elapsed": 978,
     "status": "ok",
     "timestamp": 1592921335126,
     "user": {
      "displayName": "Ajay Pratap singh",
      "photoUrl": "https://lh3.googleusercontent.com/a-/AOh14Gh4i9MT9GzfPLfUuNaejqTi6c8pe-Yrok_qKR3d=s64",
      "userId": "04438401953446104835"
     },
     "user_tz": -330
    },
    "id": "R_Xv1yfj52vb",
    "outputId": "03bb7d0b-3cbd-493f-f956-9cc9dacef889"
   },
   "outputs": [
    {
     "data": {
      "text/plain": [
       "<matplotlib.axes._subplots.AxesSubplot at 0x7fc3cc1bbe48>"
      ]
     },
     "execution_count": 38,
     "metadata": {
      "tags": []
     },
     "output_type": "execute_result"
    },
    {
     "data": {
      "image/png": "[encoded data removed]",
      "text/plain": [
       "<Figure size 432x288 with 1 Axes>"
      ]
     },
     "metadata": {
      "needs_background": "light",
      "tags": []
     },
     "output_type": "display_data"
    }
   ],
   "source": [
    "sns.countplot(df1['profile_use_background_image'],hue=df['Is_Fake'])"
   ]
  },
  {
   "cell_type": "markdown",
   "metadata": {
    "colab_type": "text",
    "id": "EskaLmma52vg"
   },
   "source": [
    "## Building the model with new data frame"
   ]
  },
  {
   "cell_type": "code",
   "execution_count": 39,
   "metadata": {
    "colab": {
     "base_uri": "https://localhost:8080/",
     "height": 206
    },
    "colab_type": "code",
    "executionInfo": {
     "elapsed": 1847,
     "status": "ok",
     "timestamp": 1592921341865,
     "user": {
      "displayName": "Ajay Pratap singh",
      "photoUrl": "https://lh3.googleusercontent.com/a-/AOh14Gh4i9MT9GzfPLfUuNaejqTi6c8pe-Yrok_qKR3d=s64",
      "userId": "04438401953446104835"
     },
     "user_tz": -330
    },
    "id": "ZduA_5h652vh",
    "outputId": "8f8e4442-4652-4b4a-dab9-6c4666c5a2c1"
   },
   "outputs": [
    {
     "data": {
      "text/html": [
       "<div>\n",
       "<style scoped>\n",
       "    .dataframe tbody tr th:only-of-type {\n",
       "        vertical-align: middle;\n",
       "    }\n",
       "\n",
       "    .dataframe tbody tr th {\n",
       "        vertical-align: top;\n",
       "    }\n",
       "\n",
       "    .dataframe thead th {\n",
       "        text-align: right;\n",
       "    }\n",
       "</style>\n",
       "<table border=\"1\" class=\"dataframe\">\n",
       "  <thead>\n",
       "    <tr style=\"text-align: right;\">\n",
       "      <th></th>\n",
       "      <th>favourites_count</th>\n",
       "      <th>followers_count</th>\n",
       "      <th>statuses_count</th>\n",
       "      <th>friends_count</th>\n",
       "      <th>listed_count</th>\n",
       "      <th>geo_enabled</th>\n",
       "      <th>default_profile</th>\n",
       "      <th>profile_use_background_image</th>\n",
       "      <th>Is_Fake</th>\n",
       "    </tr>\n",
       "  </thead>\n",
       "  <tbody>\n",
       "    <tr>\n",
       "      <th>0</th>\n",
       "      <td>145</td>\n",
       "      <td>5470</td>\n",
       "      <td>20370</td>\n",
       "      <td>2385</td>\n",
       "      <td>52</td>\n",
       "      <td>0.0</td>\n",
       "      <td>0.0</td>\n",
       "      <td>1.0</td>\n",
       "      <td>0</td>\n",
       "    </tr>\n",
       "    <tr>\n",
       "      <th>1</th>\n",
       "      <td>9</td>\n",
       "      <td>506</td>\n",
       "      <td>3131</td>\n",
       "      <td>381</td>\n",
       "      <td>40</td>\n",
       "      <td>0.0</td>\n",
       "      <td>0.0</td>\n",
       "      <td>1.0</td>\n",
       "      <td>0</td>\n",
       "    </tr>\n",
       "    <tr>\n",
       "      <th>2</th>\n",
       "      <td>323</td>\n",
       "      <td>264</td>\n",
       "      <td>4024</td>\n",
       "      <td>87</td>\n",
       "      <td>16</td>\n",
       "      <td>0.0</td>\n",
       "      <td>0.0</td>\n",
       "      <td>1.0</td>\n",
       "      <td>0</td>\n",
       "    </tr>\n",
       "    <tr>\n",
       "      <th>3</th>\n",
       "      <td>1118</td>\n",
       "      <td>640</td>\n",
       "      <td>40586</td>\n",
       "      <td>622</td>\n",
       "      <td>32</td>\n",
       "      <td>1.0</td>\n",
       "      <td>0.0</td>\n",
       "      <td>1.0</td>\n",
       "      <td>0</td>\n",
       "    </tr>\n",
       "    <tr>\n",
       "      <th>4</th>\n",
       "      <td>13</td>\n",
       "      <td>62</td>\n",
       "      <td>2016</td>\n",
       "      <td>64</td>\n",
       "      <td>0</td>\n",
       "      <td>1.0</td>\n",
       "      <td>0.0</td>\n",
       "      <td>1.0</td>\n",
       "      <td>0</td>\n",
       "    </tr>\n",
       "  </tbody>\n",
       "</table>\n",
       "</div>"
      ],
      "text/plain": [
       "   favourites_count  followers_count  ...  profile_use_background_image  Is_Fake\n",
       "0               145             5470  ...                           1.0        0\n",
       "1                 9              506  ...                           1.0        0\n",
       "2               323              264  ...                           1.0        0\n",
       "3              1118              640  ...                           1.0        0\n",
       "4                13               62  ...                           1.0        0\n",
       "\n",
       "[5 rows x 9 columns]"
      ]
     },
     "execution_count": 39,
     "metadata": {
      "tags": []
     },
     "output_type": "execute_result"
    }
   ],
   "source": [
    "df1.head()"
   ]
  },
  {
   "cell_type": "code",
   "execution_count": 40,
   "metadata": {
    "colab": {
     "base_uri": "https://localhost:8080/",
     "height": 35
    },
    "colab_type": "code",
    "executionInfo": {
     "elapsed": 957,
     "status": "ok",
     "timestamp": 1592921344145,
     "user": {
      "displayName": "Ajay Pratap singh",
      "photoUrl": "https://lh3.googleusercontent.com/a-/AOh14Gh4i9MT9GzfPLfUuNaejqTi6c8pe-Yrok_qKR3d=s64",
      "userId": "04438401953446104835"
     },
     "user_tz": -330
    },
    "id": "-a1gKNYQ52vk",
    "outputId": "8a60fe66-2505-440c-af36-c3e046dd42ae"
   },
   "outputs": [
    {
     "data": {
      "text/plain": [
       "(2818, 9)"
      ]
     },
     "execution_count": 40,
     "metadata": {
      "tags": []
     },
     "output_type": "execute_result"
    }
   ],
   "source": [
    "df1.shape"
   ]
  },
  {
   "cell_type": "code",
   "execution_count": 41,
   "metadata": {
    "colab": {},
    "colab_type": "code",
    "executionInfo": {
     "elapsed": 816,
     "status": "ok",
     "timestamp": 1592921346476,
     "user": {
      "displayName": "Ajay Pratap singh",
      "photoUrl": "https://lh3.googleusercontent.com/a-/AOh14Gh4i9MT9GzfPLfUuNaejqTi6c8pe-Yrok_qKR3d=s64",
      "userId": "04438401953446104835"
     },
     "user_tz": -330
    },
    "id": "_meZKVLO52vq"
   },
   "outputs": [],
   "source": [
    "X=df1.drop('Is_Fake',axis=1)"
   ]
  },
  {
   "cell_type": "code",
   "execution_count": 42,
   "metadata": {
    "colab": {},
    "colab_type": "code",
    "executionInfo": {
     "elapsed": 1595,
     "status": "ok",
     "timestamp": 1592921350391,
     "user": {
      "displayName": "Ajay Pratap singh",
      "photoUrl": "https://lh3.googleusercontent.com/a-/AOh14Gh4i9MT9GzfPLfUuNaejqTi6c8pe-Yrok_qKR3d=s64",
      "userId": "04438401953446104835"
     },
     "user_tz": -330
    },
    "id": "T6Q5PRUK52vt"
   },
   "outputs": [],
   "source": [
    "y=df1['Is_Fake']"
   ]
  },
  {
   "cell_type": "markdown",
   "metadata": {
    "colab_type": "text",
    "id": "xnckpQfr52vw"
   },
   "source": [
    "### Trying different models"
   ]
  },
  {
   "cell_type": "code",
   "execution_count": 43,
   "metadata": {
    "colab": {},
    "colab_type": "code",
    "executionInfo": {
     "elapsed": 1500,
     "status": "ok",
     "timestamp": 1592921359036,
     "user": {
      "displayName": "Ajay Pratap singh",
      "photoUrl": "https://lh3.googleusercontent.com/a-/AOh14Gh4i9MT9GzfPLfUuNaejqTi6c8pe-Yrok_qKR3d=s64",
      "userId": "04438401953446104835"
     },
     "user_tz": -330
    },
    "id": "c0G2D6s852vy"
   },
   "outputs": [],
   "source": [
    "cv=ShuffleSplit(n_splits=10,random_state=42,test_size=0.3)"
   ]
  },
  {
   "cell_type": "code",
   "execution_count": 46,
   "metadata": {
    "colab": {
     "base_uri": "https://localhost:8080/",
     "height": 54
    },
    "colab_type": "code",
    "executionInfo": {
     "elapsed": 3815,
     "status": "ok",
     "timestamp": 1592921368938,
     "user": {
      "displayName": "Ajay Pratap singh",
      "photoUrl": "https://lh3.googleusercontent.com/a-/AOh14Gh4i9MT9GzfPLfUuNaejqTi6c8pe-Yrok_qKR3d=s64",
      "userId": "04438401953446104835"
     },
     "user_tz": -330
    },
    "id": "CMF-0E7W52v1",
    "outputId": "c221f1f2-bf1a-4756-9b02-a893c091973d"
   },
   "outputs": [
    {
     "data": {
      "text/plain": [
       "array([0.99527187, 0.9893617 , 0.9893617 , 0.99763593, 0.99408983,\n",
       "       0.9964539 , 0.99408983, 0.99881797, 0.99527187, 0.9964539 ])"
      ]
     },
     "execution_count": 46,
     "metadata": {
      "tags": []
     },
     "output_type": "execute_result"
    }
   ],
   "source": [
    "cross_val_score(RandomForestClassifier(),X,y,scoring='accuracy',cv=cv)"
   ]
  },
  {
   "cell_type": "code",
   "execution_count": 47,
   "metadata": {
    "colab": {
     "base_uri": "https://localhost:8080/",
     "height": 54
    },
    "colab_type": "code",
    "executionInfo": {
     "elapsed": 2568,
     "status": "ok",
     "timestamp": 1592921371452,
     "user": {
      "displayName": "Ajay Pratap singh",
      "photoUrl": "https://lh3.googleusercontent.com/a-/AOh14Gh4i9MT9GzfPLfUuNaejqTi6c8pe-Yrok_qKR3d=s64",
      "userId": "04438401953446104835"
     },
     "user_tz": -330
    },
    "id": "7Kiw-AMZ52v3",
    "outputId": "cd278ca8-ab69-453e-f377-e7074331f459"
   },
   "outputs": [
    {
     "data": {
      "text/plain": [
       "array([0.88416076, 0.87943262, 0.87943262, 0.84042553, 0.8498818 ,\n",
       "       0.87588652, 0.88061466, 0.8286052 , 0.8498818 , 0.88061466])"
      ]
     },
     "execution_count": 47,
     "metadata": {
      "tags": []
     },
     "output_type": "execute_result"
    }
   ],
   "source": [
    "cross_val_score(SVC(),X,y,scoring='accuracy',cv=cv)"
   ]
  },
  {
   "cell_type": "code",
   "execution_count": 48,
   "metadata": {
    "colab": {
     "base_uri": "https://localhost:8080/",
     "height": 54
    },
    "colab_type": "code",
    "executionInfo": {
     "elapsed": 2865,
     "status": "ok",
     "timestamp": 1592921374896,
     "user": {
      "displayName": "Ajay Pratap singh",
      "photoUrl": "https://lh3.googleusercontent.com/a-/AOh14Gh4i9MT9GzfPLfUuNaejqTi6c8pe-Yrok_qKR3d=s64",
      "userId": "04438401953446104835"
     },
     "user_tz": -330
    },
    "id": "iHWsuJ1Q52v9",
    "outputId": "c43d9fec-20d1-434c-c9a9-7220898e68ca"
   },
   "outputs": [
    {
     "data": {
      "text/plain": [
       "array([0.9929078 , 0.99527187, 0.99054374, 0.99881797, 0.99763593,\n",
       "       0.99172577, 0.99527187, 0.99527187, 0.99408983, 0.99408983])"
      ]
     },
     "execution_count": 48,
     "metadata": {
      "tags": []
     },
     "output_type": "execute_result"
    }
   ],
   "source": [
    "cross_val_score(XGBClassifier(),X,y,scoring='accuracy',cv=cv)"
   ]
  },
  {
   "cell_type": "markdown",
   "metadata": {
    "colab_type": "text",
    "id": "jLcEdAXq52wB"
   },
   "source": [
    "### XG Boost is the most accurate"
   ]
  },
  {
   "cell_type": "markdown",
   "metadata": {
    "colab_type": "text",
    "id": "YnfaQvoD52wB"
   },
   "source": [
    "### Building the model"
   ]
  },
  {
   "cell_type": "code",
   "execution_count": 49,
   "metadata": {
    "colab": {},
    "colab_type": "code",
    "executionInfo": {
     "elapsed": 1221,
     "status": "ok",
     "timestamp": 1592921384139,
     "user": {
      "displayName": "Ajay Pratap singh",
      "photoUrl": "https://lh3.googleusercontent.com/a-/AOh14Gh4i9MT9GzfPLfUuNaejqTi6c8pe-Yrok_qKR3d=s64",
      "userId": "04438401953446104835"
     },
     "user_tz": -330
    },
    "id": "lJWBjFOK52wC"
   },
   "outputs": [],
   "source": [
    "x_train,x_test,y_train,y_test=train_test_split(X,y,test_size=0.3,random_state=42)"
   ]
  },
  {
   "cell_type": "code",
   "execution_count": 55,
   "metadata": {
    "colab": {},
    "colab_type": "code",
    "executionInfo": {
     "elapsed": 1627,
     "status": "ok",
     "timestamp": 1592921514545,
     "user": {
      "displayName": "Ajay Pratap singh",
      "photoUrl": "https://lh3.googleusercontent.com/a-/AOh14Gh4i9MT9GzfPLfUuNaejqTi6c8pe-Yrok_qKR3d=s64",
      "userId": "04438401953446104835"
     },
     "user_tz": -330
    },
    "id": "Jw19DCQO52wH"
   },
   "outputs": [],
   "source": [
    "xg=XGBClassifier()"
   ]
  },
  {
   "cell_type": "code",
   "execution_count": 56,
   "metadata": {
    "colab": {
     "base_uri": "https://localhost:8080/",
     "height": 146
    },
    "colab_type": "code",
    "executionInfo": {
     "elapsed": 789,
     "status": "ok",
     "timestamp": 1592921516205,
     "user": {
      "displayName": "Ajay Pratap singh",
      "photoUrl": "https://lh3.googleusercontent.com/a-/AOh14Gh4i9MT9GzfPLfUuNaejqTi6c8pe-Yrok_qKR3d=s64",
      "userId": "04438401953446104835"
     },
     "user_tz": -330
    },
    "id": "haTWK1my52wN",
    "outputId": "8ec6e022-0c08-4915-c904-325a14d68d90"
   },
   "outputs": [
    {
     "data": {
      "text/plain": [
       "XGBClassifier(base_score=0.5, booster='gbtree', colsample_bylevel=1,\n",
       "              colsample_bynode=1, colsample_bytree=1, gamma=0,\n",
       "              learning_rate=0.1, max_delta_step=0, max_depth=3,\n",
       "              min_child_weight=1, missing=None, n_estimators=100, n_jobs=1,\n",
       "              nthread=None, objective='binary:logistic', random_state=0,\n",
       "              reg_alpha=0, reg_lambda=1, scale_pos_weight=1, seed=None,\n",
       "              silent=None, subsample=1, verbosity=1)"
      ]
     },
     "execution_count": 56,
     "metadata": {
      "tags": []
     },
     "output_type": "execute_result"
    }
   ],
   "source": [
    "xg.fit(x_train,y_train)"
   ]
  },
  {
   "cell_type": "code",
   "execution_count": 57,
   "metadata": {
    "colab": {},
    "colab_type": "code",
    "executionInfo": {
     "elapsed": 1708,
     "status": "ok",
     "timestamp": 1592921522296,
     "user": {
      "displayName": "Ajay Pratap singh",
      "photoUrl": "https://lh3.googleusercontent.com/a-/AOh14Gh4i9MT9GzfPLfUuNaejqTi6c8pe-Yrok_qKR3d=s64",
      "userId": "04438401953446104835"
     },
     "user_tz": -330
    },
    "id": "FwI8dAEm52wQ"
   },
   "outputs": [],
   "source": [
    "prediction=xg.predict(x_test)"
   ]
  },
  {
   "cell_type": "markdown",
   "metadata": {
    "colab_type": "text",
    "id": "IV9fIFQ452wT"
   },
   "source": [
    "### Testing the model"
   ]
  },
  {
   "cell_type": "code",
   "execution_count": 58,
   "metadata": {
    "colab": {
     "base_uri": "https://localhost:8080/",
     "height": 182
    },
    "colab_type": "code",
    "executionInfo": {
     "elapsed": 1451,
     "status": "ok",
     "timestamp": 1592921529058,
     "user": {
      "displayName": "Ajay Pratap singh",
      "photoUrl": "https://lh3.googleusercontent.com/a-/AOh14Gh4i9MT9GzfPLfUuNaejqTi6c8pe-Yrok_qKR3d=s64",
      "userId": "04438401953446104835"
     },
     "user_tz": -330
    },
    "id": "4GRNvy8n52wT",
    "outputId": "2a0d060c-196b-4576-9fae-1f345924112f"
   },
   "outputs": [
    {
     "name": "stdout",
     "output_type": "stream",
     "text": [
      "              precision    recall  f1-score   support\n",
      "\n",
      "           0       0.99      1.00      0.99       455\n",
      "           1       0.99      0.99      0.99       391\n",
      "\n",
      "    accuracy                           0.99       846\n",
      "   macro avg       0.99      0.99      0.99       846\n",
      "weighted avg       0.99      0.99      0.99       846\n",
      "\n"
     ]
    }
   ],
   "source": [
    "print(classification_report(y_test,prediction))"
   ]
  },
  {
   "cell_type": "code",
   "execution_count": 59,
   "metadata": {
    "colab": {
     "base_uri": "https://localhost:8080/",
     "height": 54
    },
    "colab_type": "code",
    "executionInfo": {
     "elapsed": 1320,
     "status": "ok",
     "timestamp": 1592921532389,
     "user": {
      "displayName": "Ajay Pratap singh",
      "photoUrl": "https://lh3.googleusercontent.com/a-/AOh14Gh4i9MT9GzfPLfUuNaejqTi6c8pe-Yrok_qKR3d=s64",
      "userId": "04438401953446104835"
     },
     "user_tz": -330
    },
    "id": "PK_SQQv852wX",
    "outputId": "661ece4a-f4ba-4b78-da42-825491a31260"
   },
   "outputs": [
    {
     "data": {
      "text/plain": [
       "array([[453,   2],\n",
       "       [  4, 387]])"
      ]
     },
     "execution_count": 59,
     "metadata": {
      "tags": []
     },
     "output_type": "execute_result"
    }
   ],
   "source": [
    "confusion_matrix(y_test,prediction)"
   ]
  },
  {
   "cell_type": "markdown",
   "metadata": {
    "colab_type": "text",
    "id": "GCiD6Iur52we"
   },
   "source": [
    "### ROC Curve"
   ]
  },
  {
   "cell_type": "code",
   "execution_count": 60,
   "metadata": {
    "colab": {},
    "colab_type": "code",
    "executionInfo": {
     "elapsed": 1397,
     "status": "ok",
     "timestamp": 1592921539174,
     "user": {
      "displayName": "Ajay Pratap singh",
      "photoUrl": "https://lh3.googleusercontent.com/a-/AOh14Gh4i9MT9GzfPLfUuNaejqTi6c8pe-Yrok_qKR3d=s64",
      "userId": "04438401953446104835"
     },
     "user_tz": -330
    },
    "id": "B-dBUPR952wf"
   },
   "outputs": [],
   "source": [
    "fpr, tpr, thresholds=roc_curve(y_test,prediction)"
   ]
  },
  {
   "cell_type": "code",
   "execution_count": 61,
   "metadata": {
    "colab": {
     "base_uri": "https://localhost:8080/",
     "height": 283
    },
    "colab_type": "code",
    "executionInfo": {
     "elapsed": 1413,
     "status": "ok",
     "timestamp": 1592921542037,
     "user": {
      "displayName": "Ajay Pratap singh",
      "photoUrl": "https://lh3.googleusercontent.com/a-/AOh14Gh4i9MT9GzfPLfUuNaejqTi6c8pe-Yrok_qKR3d=s64",
      "userId": "04438401953446104835"
     },
     "user_tz": -330
    },
    "id": "LR-IFyPf52wh",
    "outputId": "b911f5ee-fdb9-46f2-d9f7-3067bfc9818b"
   },
   "outputs": [
    {
     "data": {
      "text/plain": [
       "[<matplotlib.lines.Line2D at 0x7fc386765a90>]"
      ]
     },
     "execution_count": 61,
     "metadata": {
      "tags": []
     },
     "output_type": "execute_result"
    },
    {
     "data": {
      "image/png": "[encoded data removed]",
      "text/plain": [
       "<Figure size 432x288 with 1 Axes>"
      ]
     },
     "metadata": {
      "needs_background": "light",
      "tags": []
     },
     "output_type": "display_data"
    }
   ],
   "source": [
    "plt.plot(fpr,tpr,linestyle='--',color='red')\n",
    "plt.plot([0, 1], [0, 1], color='navy', linestyle='--')"
   ]
  },
  {
   "cell_type": "markdown",
   "metadata": {
    "colab_type": "text",
    "id": "bfN3Hbp752wl"
   },
   "source": [
    "## <center>Model is 99.9% accurate</center>"
   ]
  },
  {
   "cell_type": "markdown",
   "metadata": {
    "colab_type": "text",
    "id": "irO7kY6G52wl"
   },
   "source": [
    "### Saving the model "
   ]
  },
  {
   "cell_type": "code",
   "execution_count": 62,
   "metadata": {
    "colab": {},
    "colab_type": "code",
    "executionInfo": {
     "elapsed": 1094,
     "status": "ok",
     "timestamp": 1592921580089,
     "user": {
      "displayName": "Ajay Pratap singh",
      "photoUrl": "https://lh3.googleusercontent.com/a-/AOh14Gh4i9MT9GzfPLfUuNaejqTi6c8pe-Yrok_qKR3d=s64",
      "userId": "04438401953446104835"
     },
     "user_tz": -330
    },
    "id": "tasrM1iU52wm"
   },
   "outputs": [],
   "source": [
    "import pickle"
   ]
  },
  {
   "cell_type": "code",
   "execution_count": 63,
   "metadata": {
    "colab": {},
    "colab_type": "code",
    "executionInfo": {
     "elapsed": 1625,
     "status": "ok",
     "timestamp": 1592921582967,
     "user": {
      "displayName": "Ajay Pratap singh",
      "photoUrl": "https://lh3.googleusercontent.com/a-/AOh14Gh4i9MT9GzfPLfUuNaejqTi6c8pe-Yrok_qKR3d=s64",
      "userId": "04438401953446104835"
     },
     "user_tz": -330
    },
    "id": "DP95TJks52wq"
   },
   "outputs": [],
   "source": [
    "with open('detector.pkl','wb') as f:\n",
    "    pickle.dump(xg,f)"
   ]
  },
  {
   "cell_type": "code",
   "execution_count": null,
   "metadata": {
    "colab": {},
    "colab_type": "code",
    "id": "Z4rJZ4EY-jOv"
   },
   "outputs": [],
   "source": []
  }
 ],
 "metadata": {
  "colab": {
   "collapsed_sections": [
    "jLcEdAXq52wB"
   ],
   "name": "Fake_Profile_Detection.ipynb",
   "provenance": [],
   "toc_visible": true
  },
  "kernelspec": {
   "display_name": "Python 3",
   "language": "python",
   "name": "python3"
  },
  "language_info": {
   "codemirror_mode": {
    "name": "ipython",
    "version": 3
   },
   "file_extension": ".py",
   "mimetype": "text/x-python",
   "name": "python",
   "nbconvert_exporter": "python",
   "pygments_lexer": "ipython3",
   "version": "3.8.2"
  }
 },
 "nbformat": 4,
 "nbformat_minor": 1
}
