{
 "cells": [
  {
   "cell_type": "code",
   "execution_count": 6,
   "metadata": {
    "colab": {},
    "colab_type": "code",
    "executionInfo": {
     "elapsed": 2743,
     "status": "ok",
     "timestamp": 1593687570340,
     "user": {
      "displayName": "Ajay Pratap singh",
      "photoUrl": "https://lh3.googleusercontent.com/a-/AOh14Gh4i9MT9GzfPLfUuNaejqTi6c8pe-Yrok_qKR3d=s64",
      "userId": "04438401953446104835"
     },
     "user_tz": -330
    },
    "id": "-nZSq9IK52rg"
   },
   "outputs": [],
   "source": [
    "import pandas as pd\n",
    "import numpy as np\n",
    "import seaborn as sns\n",
    "import matplotlib.pyplot as plt\n",
    "%matplotlib inline\n",
    "from sklearn.model_selection import cross_val_score\n",
    "from sklearn.model_selection import ShuffleSplit\n",
    "from sklearn.model_selection import train_test_split\n",
    "from sklearn.svm import SVC\n",
    "\n",
    "from sklearn import metrics\n",
    "from sklearn.metrics import confusion_matrix,classification_report,roc_curve"
   ]
  },
  {
   "cell_type": "code",
   "execution_count": 7,
   "metadata": {
    "colab": {},
    "colab_type": "code",
    "executionInfo": {
     "elapsed": 2475,
     "status": "ok",
     "timestamp": 1593687570342,
     "user": {
      "displayName": "Ajay Pratap singh",
      "photoUrl": "https://lh3.googleusercontent.com/a-/AOh14Gh4i9MT9GzfPLfUuNaejqTi6c8pe-Yrok_qKR3d=s64",
      "userId": "04438401953446104835"
     },
     "user_tz": -330
    },
    "id": "VYuK4Zna_635"
   },
   "outputs": [],
   "source": [
    "df1=pd.read_csv('newDi.csv')\n"
   ]
  },
  {
   "cell_type": "code",
   "execution_count": 8,
   "metadata": {
    "colab": {},
    "colab_type": "code",
    "executionInfo": {
     "elapsed": 2412,
     "status": "ok",
     "timestamp": 1593687570347,
     "user": {
      "displayName": "Ajay Pratap singh",
      "photoUrl": "https://lh3.googleusercontent.com/a-/AOh14Gh4i9MT9GzfPLfUuNaejqTi6c8pe-Yrok_qKR3d=s64",
      "userId": "04438401953446104835"
     },
     "user_tz": -330
    },
    "id": "_fXWmSSCDAv5"
   },
   "outputs": [],
   "source": [
    "df1 = df1.loc[:, ~df1.columns.str.contains('^Unnamed')]"
   ]
  },
  {
   "cell_type": "code",
   "execution_count": 9,
   "metadata": {
    "colab": {
     "base_uri": "https://localhost:8080/",
     "height": 206
    },
    "colab_type": "code",
    "executionInfo": {
     "elapsed": 2314,
     "status": "ok",
     "timestamp": 1593687570348,
     "user": {
      "displayName": "Ajay Pratap singh",
      "photoUrl": "https://lh3.googleusercontent.com/a-/AOh14Gh4i9MT9GzfPLfUuNaejqTi6c8pe-Yrok_qKR3d=s64",
      "userId": "04438401953446104835"
     },
     "user_tz": -330
    },
    "id": "ZduA_5h652vh",
    "outputId": "f177c228-c84b-47bb-e819-905306c12f80"
   },
   "outputs": [
    {
     "data": {
      "text/html": [
       "<div>\n",
       "<style scoped>\n",
       "    .dataframe tbody tr th:only-of-type {\n",
       "        vertical-align: middle;\n",
       "    }\n",
       "\n",
       "    .dataframe tbody tr th {\n",
       "        vertical-align: top;\n",
       "    }\n",
       "\n",
       "    .dataframe thead th {\n",
       "        text-align: right;\n",
       "    }\n",
       "</style>\n",
       "<table border=\"1\" class=\"dataframe\">\n",
       "  <thead>\n",
       "    <tr style=\"text-align: right;\">\n",
       "      <th></th>\n",
       "      <th>favourites_count</th>\n",
       "      <th>followers_count</th>\n",
       "      <th>statuses_count</th>\n",
       "      <th>friends_count</th>\n",
       "      <th>listed_count</th>\n",
       "      <th>geo_enabled</th>\n",
       "      <th>default_profile</th>\n",
       "      <th>profile_use_background_image</th>\n",
       "      <th>Is_Fake</th>\n",
       "    </tr>\n",
       "  </thead>\n",
       "  <tbody>\n",
       "    <tr>\n",
       "      <th>0</th>\n",
       "      <td>265</td>\n",
       "      <td>208</td>\n",
       "      <td>2177</td>\n",
       "      <td>332</td>\n",
       "      <td>1</td>\n",
       "      <td>1.0</td>\n",
       "      <td>0.0</td>\n",
       "      <td>0.0</td>\n",
       "      <td>0</td>\n",
       "    </tr>\n",
       "    <tr>\n",
       "      <th>1</th>\n",
       "      <td>3972</td>\n",
       "      <td>330</td>\n",
       "      <td>2660</td>\n",
       "      <td>485</td>\n",
       "      <td>5</td>\n",
       "      <td>1.0</td>\n",
       "      <td>1.0</td>\n",
       "      <td>1.0</td>\n",
       "      <td>0</td>\n",
       "    </tr>\n",
       "    <tr>\n",
       "      <th>2</th>\n",
       "      <td>1185</td>\n",
       "      <td>166</td>\n",
       "      <td>1254</td>\n",
       "      <td>177</td>\n",
       "      <td>0</td>\n",
       "      <td>0.0</td>\n",
       "      <td>0.0</td>\n",
       "      <td>1.0</td>\n",
       "      <td>0</td>\n",
       "    </tr>\n",
       "    <tr>\n",
       "      <th>3</th>\n",
       "      <td>60304</td>\n",
       "      <td>2248</td>\n",
       "      <td>202968</td>\n",
       "      <td>981</td>\n",
       "      <td>101</td>\n",
       "      <td>1.0</td>\n",
       "      <td>0.0</td>\n",
       "      <td>1.0</td>\n",
       "      <td>0</td>\n",
       "    </tr>\n",
       "    <tr>\n",
       "      <th>4</th>\n",
       "      <td>5</td>\n",
       "      <td>21</td>\n",
       "      <td>82</td>\n",
       "      <td>79</td>\n",
       "      <td>0</td>\n",
       "      <td>0.0</td>\n",
       "      <td>1.0</td>\n",
       "      <td>1.0</td>\n",
       "      <td>0</td>\n",
       "    </tr>\n",
       "  </tbody>\n",
       "</table>\n",
       "</div>"
      ],
      "text/plain": [
       "   favourites_count  followers_count  ...  profile_use_background_image  Is_Fake\n",
       "0               265              208  ...                           0.0        0\n",
       "1              3972              330  ...                           1.0        0\n",
       "2              1185              166  ...                           1.0        0\n",
       "3             60304             2248  ...                           1.0        0\n",
       "4                 5               21  ...                           1.0        0\n",
       "\n",
       "[5 rows x 9 columns]"
      ]
     },
     "execution_count": 9,
     "metadata": {
      "tags": []
     },
     "output_type": "execute_result"
    }
   ],
   "source": [
    "df1.head()"
   ]
  },
  {
   "cell_type": "code",
   "execution_count": 10,
   "metadata": {
    "colab": {
     "base_uri": "https://localhost:8080/",
     "height": 35
    },
    "colab_type": "code",
    "executionInfo": {
     "elapsed": 2210,
     "status": "ok",
     "timestamp": 1593687570350,
     "user": {
      "displayName": "Ajay Pratap singh",
      "photoUrl": "https://lh3.googleusercontent.com/a-/AOh14Gh4i9MT9GzfPLfUuNaejqTi6c8pe-Yrok_qKR3d=s64",
      "userId": "04438401953446104835"
     },
     "user_tz": -330
    },
    "id": "-a1gKNYQ52vk",
    "outputId": "2b4257e1-4e17-4c6d-f870-ad376f8350a8"
   },
   "outputs": [
    {
     "data": {
      "text/plain": [
       "(6825, 9)"
      ]
     },
     "execution_count": 10,
     "metadata": {
      "tags": []
     },
     "output_type": "execute_result"
    }
   ],
   "source": [
    "df1.shape"
   ]
  },
  {
   "cell_type": "code",
   "execution_count": 11,
   "metadata": {
    "colab": {},
    "colab_type": "code",
    "executionInfo": {
     "elapsed": 2100,
     "status": "ok",
     "timestamp": 1593687570351,
     "user": {
      "displayName": "Ajay Pratap singh",
      "photoUrl": "https://lh3.googleusercontent.com/a-/AOh14Gh4i9MT9GzfPLfUuNaejqTi6c8pe-Yrok_qKR3d=s64",
      "userId": "04438401953446104835"
     },
     "user_tz": -330
    },
    "id": "_meZKVLO52vq"
   },
   "outputs": [],
   "source": [
    "X=df1.drop('Is_Fake',axis=1)"
   ]
  },
  {
   "cell_type": "code",
   "execution_count": 12,
   "metadata": {
    "colab": {},
    "colab_type": "code",
    "executionInfo": {
     "elapsed": 2022,
     "status": "ok",
     "timestamp": 1593687570351,
     "user": {
      "displayName": "Ajay Pratap singh",
      "photoUrl": "https://lh3.googleusercontent.com/a-/AOh14Gh4i9MT9GzfPLfUuNaejqTi6c8pe-Yrok_qKR3d=s64",
      "userId": "04438401953446104835"
     },
     "user_tz": -330
    },
    "id": "T6Q5PRUK52vt"
   },
   "outputs": [],
   "source": [
    "y=df1['Is_Fake']"
   ]
  },
  {
   "cell_type": "code",
   "execution_count": 13,
   "metadata": {
    "colab": {},
    "colab_type": "code",
    "executionInfo": {
     "elapsed": 1871,
     "status": "ok",
     "timestamp": 1593687570352,
     "user": {
      "displayName": "Ajay Pratap singh",
      "photoUrl": "https://lh3.googleusercontent.com/a-/AOh14Gh4i9MT9GzfPLfUuNaejqTi6c8pe-Yrok_qKR3d=s64",
      "userId": "04438401953446104835"
     },
     "user_tz": -330
    },
    "id": "ykNFfzTYFFco"
   },
   "outputs": [],
   "source": [
    "cv=ShuffleSplit(n_splits=10,random_state=42,test_size=0.3)"
   ]
  },
  {
   "cell_type": "code",
   "execution_count": 14,
   "metadata": {
    "colab": {
     "base_uri": "https://localhost:8080/",
     "height": 54
    },
    "colab_type": "code",
    "executionInfo": {
     "elapsed": 5354,
     "status": "ok",
     "timestamp": 1593687574043,
     "user": {
      "displayName": "Ajay Pratap singh",
      "photoUrl": "https://lh3.googleusercontent.com/a-/AOh14Gh4i9MT9GzfPLfUuNaejqTi6c8pe-Yrok_qKR3d=s64",
      "userId": "04438401953446104835"
     },
     "user_tz": -330
    },
    "id": "Z6kknj1ME_oY",
    "outputId": "214e5392-ecac-4a56-c341-210192179f79"
   },
   "outputs": [
    {
     "data": {
      "text/plain": [
       "array([0.91162109, 0.90820312, 0.90869141, 0.91601562, 0.91503906,\n",
       "       0.90869141, 0.92675781, 0.92431641, 0.92089844, 0.91748047])"
      ]
     },
     "execution_count": 14,
     "metadata": {
      "tags": []
     },
     "output_type": "execute_result"
    }
   ],
   "source": [
    "cross_val_score(SVC(),X,y,scoring='accuracy',cv=cv)"
   ]
  },
  {
   "cell_type": "code",
   "execution_count": 15,
   "metadata": {
    "colab": {},
    "colab_type": "code",
    "executionInfo": {
     "elapsed": 5276,
     "status": "ok",
     "timestamp": 1593687574045,
     "user": {
      "displayName": "Ajay Pratap singh",
      "photoUrl": "https://lh3.googleusercontent.com/a-/AOh14Gh4i9MT9GzfPLfUuNaejqTi6c8pe-Yrok_qKR3d=s64",
      "userId": "04438401953446104835"
     },
     "user_tz": -330
    },
    "id": "lJWBjFOK52wC"
   },
   "outputs": [],
   "source": [
    "x_train,x_test,y_train,y_test=train_test_split(X,y,test_size=0.3,random_state=42)"
   ]
  },
  {
   "cell_type": "code",
   "execution_count": 16,
   "metadata": {
    "colab": {
     "base_uri": "https://localhost:8080/",
     "height": 90
    },
    "colab_type": "code",
    "executionInfo": {
     "elapsed": 5091,
     "status": "ok",
     "timestamp": 1593687574046,
     "user": {
      "displayName": "Ajay Pratap singh",
      "photoUrl": "https://lh3.googleusercontent.com/a-/AOh14Gh4i9MT9GzfPLfUuNaejqTi6c8pe-Yrok_qKR3d=s64",
      "userId": "04438401953446104835"
     },
     "user_tz": -330
    },
    "id": "dl_Wqkfxt_8o",
    "outputId": "f94cfbc2-b2d9-415c-eb15-23ae24857e7a"
   },
   "outputs": [
    {
     "name": "stdout",
     "output_type": "stream",
     "text": [
      "(4777, 8)\n",
      "(2048, 8)\n",
      "(4777,)\n",
      "(2048,)\n"
     ]
    }
   ],
   "source": [
    "print(x_train.shape)\n",
    "print(x_test.shape)\n",
    "print(y_train.shape)\n",
    "print(y_test.shape)"
   ]
  },
  {
   "cell_type": "code",
   "execution_count": 17,
   "metadata": {
    "colab": {},
    "colab_type": "code",
    "executionInfo": {
     "elapsed": 4880,
     "status": "ok",
     "timestamp": 1593687574049,
     "user": {
      "displayName": "Ajay Pratap singh",
      "photoUrl": "https://lh3.googleusercontent.com/a-/AOh14Gh4i9MT9GzfPLfUuNaejqTi6c8pe-Yrok_qKR3d=s64",
      "userId": "04438401953446104835"
     },
     "user_tz": -330
    },
    "id": "zNFP5I-QcIF0"
   },
   "outputs": [],
   "source": [
    "sv=SVC()"
   ]
  },
  {
   "cell_type": "code",
   "execution_count": 18,
   "metadata": {
    "colab": {
     "base_uri": "https://localhost:8080/",
     "height": 90
    },
    "colab_type": "code",
    "executionInfo": {
     "elapsed": 4790,
     "status": "ok",
     "timestamp": 1593687574050,
     "user": {
      "displayName": "Ajay Pratap singh",
      "photoUrl": "https://lh3.googleusercontent.com/a-/AOh14Gh4i9MT9GzfPLfUuNaejqTi6c8pe-Yrok_qKR3d=s64",
      "userId": "04438401953446104835"
     },
     "user_tz": -330
    },
    "id": "Fk9Th9fdcOHj",
    "outputId": "155690cc-6198-4bbc-9638-0af385116452"
   },
   "outputs": [
    {
     "data": {
      "text/plain": [
       "SVC(C=1.0, break_ties=False, cache_size=200, class_weight=None, coef0=0.0,\n",
       "    decision_function_shape='ovr', degree=3, gamma='scale', kernel='rbf',\n",
       "    max_iter=-1, probability=False, random_state=None, shrinking=True,\n",
       "    tol=0.001, verbose=False)"
      ]
     },
     "execution_count": 18,
     "metadata": {
      "tags": []
     },
     "output_type": "execute_result"
    }
   ],
   "source": [
    "sv.fit(x_train,y_train)"
   ]
  },
  {
   "cell_type": "code",
   "execution_count": 19,
   "metadata": {
    "colab": {},
    "colab_type": "code",
    "executionInfo": {
     "elapsed": 4706,
     "status": "ok",
     "timestamp": 1593687574051,
     "user": {
      "displayName": "Ajay Pratap singh",
      "photoUrl": "https://lh3.googleusercontent.com/a-/AOh14Gh4i9MT9GzfPLfUuNaejqTi6c8pe-Yrok_qKR3d=s64",
      "userId": "04438401953446104835"
     },
     "user_tz": -330
    },
    "id": "NCJ2u-r7jNOW"
   },
   "outputs": [],
   "source": [
    "prediction=sv.predict(x_test)"
   ]
  },
  {
   "cell_type": "code",
   "execution_count": 20,
   "metadata": {
    "colab": {
     "base_uri": "https://localhost:8080/",
     "height": 182
    },
    "colab_type": "code",
    "executionInfo": {
     "elapsed": 4620,
     "status": "ok",
     "timestamp": 1593687574053,
     "user": {
      "displayName": "Ajay Pratap singh",
      "photoUrl": "https://lh3.googleusercontent.com/a-/AOh14Gh4i9MT9GzfPLfUuNaejqTi6c8pe-Yrok_qKR3d=s64",
      "userId": "04438401953446104835"
     },
     "user_tz": -330
    },
    "id": "uVwFw1PQcSwz",
    "outputId": "1eeb41d4-ae1c-4787-ea89-5f85270f65bb"
   },
   "outputs": [
    {
     "name": "stdout",
     "output_type": "stream",
     "text": [
      "              precision    recall  f1-score   support\n",
      "\n",
      "           0       0.99      0.84      0.91      1074\n",
      "           1       0.85      0.99      0.91       974\n",
      "\n",
      "    accuracy                           0.91      2048\n",
      "   macro avg       0.92      0.92      0.91      2048\n",
      "weighted avg       0.92      0.91      0.91      2048\n",
      "\n"
     ]
    }
   ],
   "source": [
    "print(classification_report(y_test,prediction))"
   ]
  },
  {
   "cell_type": "code",
   "execution_count": 21,
   "metadata": {
    "colab": {
     "base_uri": "https://localhost:8080/",
     "height": 54
    },
    "colab_type": "code",
    "executionInfo": {
     "elapsed": 4467,
     "status": "ok",
     "timestamp": 1593687574053,
     "user": {
      "displayName": "Ajay Pratap singh",
      "photoUrl": "https://lh3.googleusercontent.com/a-/AOh14Gh4i9MT9GzfPLfUuNaejqTi6c8pe-Yrok_qKR3d=s64",
      "userId": "04438401953446104835"
     },
     "user_tz": -330
    },
    "id": "hE9MYPt4cV18",
    "outputId": "22cfae9b-941e-429b-b71b-85e4cc8ade45"
   },
   "outputs": [
    {
     "data": {
      "text/plain": [
       "array([[902, 172],\n",
       "       [  9, 965]])"
      ]
     },
     "execution_count": 21,
     "metadata": {
      "tags": []
     },
     "output_type": "execute_result"
    }
   ],
   "source": [
    "confusion_matrix(y_test,prediction)"
   ]
  },
  {
   "cell_type": "code",
   "execution_count": 22,
   "metadata": {
    "colab": {},
    "colab_type": "code",
    "executionInfo": {
     "elapsed": 4339,
     "status": "ok",
     "timestamp": 1593687574057,
     "user": {
      "displayName": "Ajay Pratap singh",
      "photoUrl": "https://lh3.googleusercontent.com/a-/AOh14Gh4i9MT9GzfPLfUuNaejqTi6c8pe-Yrok_qKR3d=s64",
      "userId": "04438401953446104835"
     },
     "user_tz": -330
    },
    "id": "srrv-664cY98"
   },
   "outputs": [],
   "source": [
    "fpr, tpr, thresholds=roc_curve(y_test,prediction)"
   ]
  },
  {
   "cell_type": "code",
   "execution_count": 23,
   "metadata": {
    "colab": {
     "base_uri": "https://localhost:8080/",
     "height": 283
    },
    "colab_type": "code",
    "executionInfo": {
     "elapsed": 4205,
     "status": "ok",
     "timestamp": 1593687574058,
     "user": {
      "displayName": "Ajay Pratap singh",
      "photoUrl": "https://lh3.googleusercontent.com/a-/AOh14Gh4i9MT9GzfPLfUuNaejqTi6c8pe-Yrok_qKR3d=s64",
      "userId": "04438401953446104835"
     },
     "user_tz": -330
    },
    "id": "cNUWclBOcbfb",
    "outputId": "cab114da-910a-4bd4-ec4e-b842a2d671eb"
   },
   "outputs": [
    {
     "data": {
      "text/plain": [
       "[<matplotlib.lines.Line2D at 0x7fdd87e57940>]"
      ]
     },
     "execution_count": 23,
     "metadata": {
      "tags": []
     },
     "output_type": "execute_result"
    },
    {
     "data": {
      "image/png": "[encoded data removed]",
      "text/plain": [
       "<Figure size 432x288 with 1 Axes>"
      ]
     },
     "metadata": {
      "needs_background": "light",
      "tags": []
     },
     "output_type": "display_data"
    }
   ],
   "source": [
    "plt.plot(fpr,tpr,linestyle='--',color='red')\n",
    "plt.plot([0, 1], [0, 1], color='navy', linestyle='--')"
   ]
  },
  {
   "cell_type": "code",
   "execution_count": 24,
   "metadata": {
    "colab": {
     "base_uri": "https://localhost:8080/",
     "height": 54
    },
    "colab_type": "code",
    "executionInfo": {
     "elapsed": 4108,
     "status": "ok",
     "timestamp": 1593687574059,
     "user": {
      "displayName": "Ajay Pratap singh",
      "photoUrl": "https://lh3.googleusercontent.com/a-/AOh14Gh4i9MT9GzfPLfUuNaejqTi6c8pe-Yrok_qKR3d=s64",
      "userId": "04438401953446104835"
     },
     "user_tz": -330
    },
    "id": "L8yvxIJ3EJYh",
    "outputId": "d79fd5ad-6ee7-4fd6-e69f-66224fb44063"
   },
   "outputs": [
    {
     "name": "stdout",
     "output_type": "stream",
     "text": [
      "Accuracy: 0.91162109375\n",
      "Loss:  3.0525664346859513\n"
     ]
    }
   ],
   "source": [
    "print(\"Accuracy:\",metrics.accuracy_score(y_test, prediction))\n",
    "print(\"Loss: \",metrics.log_loss(y_test, prediction))"
   ]
  },
  {
   "cell_type": "code",
   "execution_count": 25,
   "metadata": {
    "colab": {},
    "colab_type": "code",
    "executionInfo": {
     "elapsed": 3950,
     "status": "ok",
     "timestamp": 1593687574060,
     "user": {
      "displayName": "Ajay Pratap singh",
      "photoUrl": "https://lh3.googleusercontent.com/a-/AOh14Gh4i9MT9GzfPLfUuNaejqTi6c8pe-Yrok_qKR3d=s64",
      "userId": "04438401953446104835"
     },
     "user_tz": -330
    },
    "id": "tasrM1iU52wm"
   },
   "outputs": [],
   "source": [
    "import pickle"
   ]
  },
  {
   "cell_type": "code",
   "execution_count": 32,
   "metadata": {
    "colab": {
     "base_uri": "https://localhost:8080/",
     "height": 35
    },
    "colab_type": "code",
    "executionInfo": {
     "elapsed": 983,
     "status": "ok",
     "timestamp": 1593687690824,
     "user": {
      "displayName": "Ajay Pratap singh",
      "photoUrl": "https://lh3.googleusercontent.com/a-/AOh14Gh4i9MT9GzfPLfUuNaejqTi6c8pe-Yrok_qKR3d=s64",
      "userId": "04438401953446104835"
     },
     "user_tz": -330
    },
    "id": "DP95TJks52wq",
    "outputId": "3029efd0-56a4-446a-ddff-a6aa52cb0b3d"
   },
   "outputs": [
    {
     "name": "stdout",
     "output_type": "stream",
     "text": [
      "/content/drive/My Drive/project/Models\n"
     ]
    }
   ],
   "source": [
    "%cd Models\n",
    "with open('Svc.pkl','wb') as f:\n",
    "    pickle.dump(sv,f)"
   ]
  },
  {
   "cell_type": "code",
   "execution_count": null,
   "metadata": {
    "colab": {},
    "colab_type": "code",
    "executionInfo": {
     "elapsed": 4560,
     "status": "aborted",
     "timestamp": 1593687574797,
     "user": {
      "displayName": "Ajay Pratap singh",
      "photoUrl": "https://lh3.googleusercontent.com/a-/AOh14Gh4i9MT9GzfPLfUuNaejqTi6c8pe-Yrok_qKR3d=s64",
      "userId": "04438401953446104835"
     },
     "user_tz": -330
    },
    "id": "Z4rJZ4EY-jOv"
   },
   "outputs": [],
   "source": []
  }
 ],
 "metadata": {
  "colab": {
   "collapsed_sections": [],
   "name": "SVC.ipynb",
   "provenance": []
  },
  "kernelspec": {
   "display_name": "Python 3",
   "language": "python",
   "name": "python3"
  },
  "language_info": {
   "codemirror_mode": {
    "name": "ipython",
    "version": 3
   },
   "file_extension": ".py",
   "mimetype": "text/x-python",
   "name": "python",
   "nbconvert_exporter": "python",
   "pygments_lexer": "ipython3",
   "version": "3.8.2"
  }
 },
 "nbformat": 4,
 "nbformat_minor": 1
}
